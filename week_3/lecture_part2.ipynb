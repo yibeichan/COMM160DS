{
 "cells": [
  {
   "cell_type": "markdown",
   "id": "da6b2af7-78b6-4db1-82da-02ea47b69cb2",
   "metadata": {},
   "source": [
    "# Data Aggregation, Data Provenance, and Reproducible Data Preparation Workflows"
   ]
  },
  {
   "cell_type": "markdown",
   "id": "b8fc3d13-b85e-400c-b56f-c17749002427",
   "metadata": {},
   "source": [
    "## 1. Data Aggregation\n",
    "\n",
    "### 1.1 Overview\n",
    "Data aggregation is the process of gathering and summarizing data from multiple sources to make it more useful and informative. In Pandas, you can use the `groupby()` function to perform data aggregation operations."
   ]
  },
  {
   "cell_type": "markdown",
   "id": "ed4ebc68-1ea5-4fbd-b837-fdb35b5ad9f5",
   "metadata": {},
   "source": [
    "### 1.2 Grouping Data\n",
    "To group data by one or more columns, you can use the `groupby()` method."
   ]
  },
  {
   "cell_type": "code",
   "execution_count": 1,
   "id": "485533ec-a892-4467-b2ae-042fc952ed5c",
   "metadata": {
    "tags": []
   },
   "outputs": [],
   "source": [
    "import pandas as pd\n",
    "\n",
    "# Example DataFrame\n",
    "data = {\n",
    "    'Category': ['A', 'A', 'B', 'B', 'A', 'B'],\n",
    "    'Value': [10, 15, 20, 25, 30, 35]\n",
    "}\n",
    "df = pd.DataFrame(data)"
   ]
  },
  {
   "cell_type": "code",
   "execution_count": 3,
   "id": "330ed349-ecd6-43ea-afbe-1d1cafa15bf9",
   "metadata": {
    "tags": []
   },
   "outputs": [
    {
     "data": {
      "text/html": [
       "<div>\n",
       "<style scoped>\n",
       "    .dataframe tbody tr th:only-of-type {\n",
       "        vertical-align: middle;\n",
       "    }\n",
       "\n",
       "    .dataframe tbody tr th {\n",
       "        vertical-align: top;\n",
       "    }\n",
       "\n",
       "    .dataframe thead th {\n",
       "        text-align: right;\n",
       "    }\n",
       "</style>\n",
       "<table border=\"1\" class=\"dataframe\">\n",
       "  <thead>\n",
       "    <tr style=\"text-align: right;\">\n",
       "      <th></th>\n",
       "      <th>Category</th>\n",
       "      <th>Value</th>\n",
       "    </tr>\n",
       "  </thead>\n",
       "  <tbody>\n",
       "    <tr>\n",
       "      <th>0</th>\n",
       "      <td>A</td>\n",
       "      <td>10</td>\n",
       "    </tr>\n",
       "    <tr>\n",
       "      <th>1</th>\n",
       "      <td>A</td>\n",
       "      <td>15</td>\n",
       "    </tr>\n",
       "    <tr>\n",
       "      <th>2</th>\n",
       "      <td>B</td>\n",
       "      <td>20</td>\n",
       "    </tr>\n",
       "    <tr>\n",
       "      <th>3</th>\n",
       "      <td>B</td>\n",
       "      <td>25</td>\n",
       "    </tr>\n",
       "    <tr>\n",
       "      <th>4</th>\n",
       "      <td>A</td>\n",
       "      <td>30</td>\n",
       "    </tr>\n",
       "    <tr>\n",
       "      <th>5</th>\n",
       "      <td>B</td>\n",
       "      <td>35</td>\n",
       "    </tr>\n",
       "  </tbody>\n",
       "</table>\n",
       "</div>"
      ],
      "text/plain": [
       "  Category  Value\n",
       "0        A     10\n",
       "1        A     15\n",
       "2        B     20\n",
       "3        B     25\n",
       "4        A     30\n",
       "5        B     35"
      ]
     },
     "execution_count": 3,
     "metadata": {},
     "output_type": "execute_result"
    }
   ],
   "source": [
    "df"
   ]
  },
  {
   "cell_type": "code",
   "execution_count": 9,
   "id": "4b20a38d-bccf-449e-9cc7-37a42b7a9685",
   "metadata": {
    "tags": []
   },
   "outputs": [
    {
     "data": {
      "text/html": [
       "<div>\n",
       "<style scoped>\n",
       "    .dataframe tbody tr th:only-of-type {\n",
       "        vertical-align: middle;\n",
       "    }\n",
       "\n",
       "    .dataframe tbody tr th {\n",
       "        vertical-align: top;\n",
       "    }\n",
       "\n",
       "    .dataframe thead th {\n",
       "        text-align: right;\n",
       "    }\n",
       "</style>\n",
       "<table border=\"1\" class=\"dataframe\">\n",
       "  <thead>\n",
       "    <tr style=\"text-align: right;\">\n",
       "      <th></th>\n",
       "      <th>Value</th>\n",
       "    </tr>\n",
       "    <tr>\n",
       "      <th>Category</th>\n",
       "      <th></th>\n",
       "    </tr>\n",
       "  </thead>\n",
       "  <tbody>\n",
       "    <tr>\n",
       "      <th>A</th>\n",
       "      <td>10.408330</td>\n",
       "    </tr>\n",
       "    <tr>\n",
       "      <th>B</th>\n",
       "      <td>7.637626</td>\n",
       "    </tr>\n",
       "  </tbody>\n",
       "</table>\n",
       "</div>"
      ],
      "text/plain": [
       "              Value\n",
       "Category           \n",
       "A         10.408330\n",
       "B          7.637626"
      ]
     },
     "execution_count": 9,
     "metadata": {},
     "output_type": "execute_result"
    }
   ],
   "source": [
    "# Group data by 'Category'\n",
    "grouped_data = df.groupby('Category').std()\n",
    "grouped_data"
   ]
  },
  {
   "cell_type": "markdown",
   "id": "2886e0ba-f401-4d17-bcf4-3b230e724ec5",
   "metadata": {},
   "source": [
    "### 1.3 Aggregating Data\n",
    "Apply aggregation functions like `sum()`, `mean()`, `max()`, and `min()` to the grouped data."
   ]
  },
  {
   "cell_type": "code",
   "execution_count": 12,
   "id": "267e130f-eebd-4ee5-b456-1879b1f220c1",
   "metadata": {
    "tags": []
   },
   "outputs": [
    {
     "data": {
      "text/html": [
       "<div>\n",
       "<style scoped>\n",
       "    .dataframe tbody tr th:only-of-type {\n",
       "        vertical-align: middle;\n",
       "    }\n",
       "\n",
       "    .dataframe tbody tr th {\n",
       "        vertical-align: top;\n",
       "    }\n",
       "\n",
       "    .dataframe thead th {\n",
       "        text-align: right;\n",
       "    }\n",
       "</style>\n",
       "<table border=\"1\" class=\"dataframe\">\n",
       "  <thead>\n",
       "    <tr style=\"text-align: right;\">\n",
       "      <th></th>\n",
       "      <th>Value</th>\n",
       "    </tr>\n",
       "    <tr>\n",
       "      <th>Category</th>\n",
       "      <th></th>\n",
       "    </tr>\n",
       "  </thead>\n",
       "  <tbody>\n",
       "    <tr>\n",
       "      <th>A</th>\n",
       "      <td>30</td>\n",
       "    </tr>\n",
       "    <tr>\n",
       "      <th>B</th>\n",
       "      <td>35</td>\n",
       "    </tr>\n",
       "  </tbody>\n",
       "</table>\n",
       "</div>"
      ],
      "text/plain": [
       "          Value\n",
       "Category       \n",
       "A            30\n",
       "B            35"
      ]
     },
     "execution_count": 12,
     "metadata": {},
     "output_type": "execute_result"
    }
   ],
   "source": [
    "# Sum values within each group\n",
    "aggregated_data = df.groupby('Category').max()\n",
    "aggregated_data"
   ]
  },
  {
   "cell_type": "markdown",
   "id": "7a61b285-c543-4dd3-b25e-973f0c92fa93",
   "metadata": {},
   "source": [
    "## 2. Data Provenance\n",
    "\n",
    "### 2.1 Overview\n",
    "Data provenance refers to the origin and history of a dataset, including how it was collected, processed, and analyzed. Maintaining data provenance is essential for ensuring the reliability and reproducibility of research findings."
   ]
  },
  {
   "cell_type": "markdown",
   "id": "9bc42bd0-509a-4f00-9cbd-36c89d3797f1",
   "metadata": {},
   "source": [
    "### 2.2 Tracking Data Provenance\n",
    "Document data sources, processing steps, and any changes made to the dataset. Use code comments, version control systems (e.g., Git), and metadata to maintain a record of data provenance."
   ]
  },
  {
   "cell_type": "code",
   "execution_count": 16,
   "id": "3365ba90-b4d9-4101-b59a-98fa81d3ad12",
   "metadata": {
    "tags": []
   },
   "outputs": [],
   "source": [
    "# Load data from CSV file (specify the data source)\n",
    "df = pd.read_csv('pre-course_survey.csv')\n",
    "\n",
    "# Clean data (document the cleaning steps)\n",
    "# df.dropna(inplace=True)\n",
    "# df.drop_duplicates(inplace=True)"
   ]
  },
  {
   "cell_type": "code",
   "execution_count": 24,
   "id": "0e34ccc8-483f-444f-b6b2-4de4be95be81",
   "metadata": {
    "tags": []
   },
   "outputs": [],
   "source": [
    "df1 = df.dropna()"
   ]
  },
  {
   "cell_type": "code",
   "execution_count": 25,
   "id": "25f148ce-234e-4a50-99bd-e4ee3b890890",
   "metadata": {
    "tags": []
   },
   "outputs": [
    {
     "data": {
      "text/plain": [
       "((50, 11), (44, 11))"
      ]
     },
     "execution_count": 25,
     "metadata": {},
     "output_type": "execute_result"
    }
   ],
   "source": [
    "df.shape, df1.shape"
   ]
  },
  {
   "cell_type": "code",
   "execution_count": 26,
   "id": "e208c2a7-268a-4c3e-a5bc-4e6da571f73b",
   "metadata": {
    "tags": []
   },
   "outputs": [
    {
     "data": {
      "text/plain": [
       "((44, 11), (34, 11))"
      ]
     },
     "execution_count": 26,
     "metadata": {},
     "output_type": "execute_result"
    }
   ],
   "source": [
    "df2 = df1.drop_duplicates()\n",
    "df1.shape, df2.shape"
   ]
  },
  {
   "cell_type": "markdown",
   "id": "bff35694-6401-49da-9e19-bd6be1911fbf",
   "metadata": {},
   "source": [
    "## 3. Reproducible Data Preparation Workflows\n",
    "\n",
    "### 3.1 Overview\n",
    "Reproducible data preparation workflows involve organizing your code and data in a way that makes it easy for others to understand, use, and replicate your work."
   ]
  },
  {
   "cell_type": "markdown",
   "id": "e633cfbd-f5af-4983-813e-d2c93c540b45",
   "metadata": {},
   "source": [
    "### 3.2 Best Practices\n",
    "\n",
    "Use version control systems (e.g., Git) to track changes in code and data.\n",
    "Write clean, modular, and well-documented code.\n",
    "Separate data cleaning, processing, and analysis steps.\n",
    "Use virtual environments to manage dependencies.\n",
    "Share your code and data through public repositories (e.g., GitHub)."
   ]
  },
  {
   "cell_type": "code",
   "execution_count": 4,
   "id": "0c2bdbf1-76f4-42e5-9e42-13c1bd02b61e",
   "metadata": {
    "tags": []
   },
   "outputs": [],
   "source": [
    "# Example of a clean, modular, and well-documented code snippet\n",
    "def clean_data(df):\n",
    "    \"\"\"\n",
    "    Clean the input DataFrame by removing missing values and duplicates.\n",
    "\n",
    "    Parameters:\n",
    "    df (DataFrame): The input DataFrame to be cleaned.\n",
    "\n",
    "    Returns:\n",
    "    DataFrame: The cleaned DataFrame.\n",
    "    \"\"\"\n",
    "    df.dropna(inplace=True)\n",
    "    df.drop_duplicates(inplace=True)\n",
    "    return df\n",
    "\n",
    "# Load data\n",
    "data = pd.read_csv('pre-course_survey.csv')\n",
    "\n",
    "# Clean data\n",
    "cleaned_data = clean_data(data)"
   ]
  },
  {
   "cell_type": "markdown",
   "id": "1bf3f708-114f-4d55-90a9-2bc37697d52e",
   "metadata": {},
   "source": [
    "## 4. Hands-on Exercises"
   ]
  },
  {
   "cell_type": "markdown",
   "id": "45d7366a-bc62-4711-8562-a59a0f8e53c6",
   "metadata": {},
   "source": [
    "### Exercise 1\n",
    "Create a DataFrame with random data and perform data aggregation using the `groupby()` method. Apply different aggregation functions like `sum()`, `mean()`, and `count()`."
   ]
  },
  {
   "cell_type": "markdown",
   "id": "c37e43a6-10fc-48d7-bbad-37c330033841",
   "metadata": {},
   "source": [
    "### Exercise 2\n",
    "Design a simple reproducible data preparation workflow. Load a dataset, clean it, and visualize the results. Document your code and steps using comments and Markdown cells."
   ]
  }
 ],
 "metadata": {
  "kernelspec": {
   "display_name": "Python 3 (ipykernel)",
   "language": "python",
   "name": "python3"
  },
  "language_info": {
   "codemirror_mode": {
    "name": "ipython",
    "version": 3
   },
   "file_extension": ".py",
   "mimetype": "text/x-python",
   "name": "python",
   "nbconvert_exporter": "python",
   "pygments_lexer": "ipython3",
   "version": "3.10.9"
  }
 },
 "nbformat": 4,
 "nbformat_minor": 5
}
