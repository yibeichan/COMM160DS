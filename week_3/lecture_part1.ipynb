{
 "cells": [
  {
   "cell_type": "markdown",
   "id": "be701e5b-0ab8-4a7e-a1b4-788ef1bb4653",
   "metadata": {},
   "source": [
    "# Introduction to Pandas, Data Cleaning, and Transformation"
   ]
  },
  {
   "cell_type": "markdown",
   "id": "f26bacc9-92ed-496b-a163-807ff266a41a",
   "metadata": {},
   "source": [
    "## 1. Introduction to Pandas library"
   ]
  },
  {
   "cell_type": "markdown",
   "id": "f8b5e4e5-aaa9-40e5-a3eb-e45e178144f6",
   "metadata": {},
   "source": [
    "### 1.1 Overview\n",
    "Pandas is a popular Python library for data manipulation and analysis. It provides data structures like Series and DataFrame, which are designed to handle a wide variety of data types and enable powerful data manipulation operations."
   ]
  },
  {
   "cell_type": "markdown",
   "id": "7ab21f4f-c182-4018-9be2-002a39dd7f08",
   "metadata": {},
   "source": [
    "### 1.2 Installation\n",
    "If you haven't installed pandas yet, you can do so using the following command:\n",
    "\n",
    "```bash\n",
    "!pip install pandas\n"
   ]
  },
  {
   "cell_type": "markdown",
   "id": "af254853-ddd4-4503-87eb-673ffe8301ed",
   "metadata": {},
   "source": [
    "### 1.3 Importing Pandas\n",
    "To use pandas in your code, you need to import it. It's common practice to import pandas with the alias pd:"
   ]
  },
  {
   "cell_type": "code",
   "execution_count": 2,
   "id": "783f9f0a-5c41-4cc9-9712-41512abc9949",
   "metadata": {
    "tags": []
   },
   "outputs": [],
   "source": [
    "import pandas as pd"
   ]
  },
  {
   "cell_type": "markdown",
   "id": "d39fe334-36be-4449-8add-a7d7b3272d06",
   "metadata": {},
   "source": [
    "## 2. Pandas Data Structures\n",
    "\n",
    "### 2.1 Series\n",
    "A Series is a one-dimensional labeled array capable of holding any data type.\n",
    "\n",
    "Creating a Series"
   ]
  },
  {
   "cell_type": "code",
   "execution_count": 3,
   "id": "f5a39177-94c7-43b1-9e93-6cfbe5235f64",
   "metadata": {
    "tags": []
   },
   "outputs": [
    {
     "name": "stdout",
     "output_type": "stream",
     "text": [
      "0    1\n",
      "1    2\n",
      "2    3\n",
      "3    4\n",
      "dtype: int64\n"
     ]
    }
   ],
   "source": [
    "data = [1, 2, 3, 4]\n",
    "ser = pd.Series(data)\n",
    "print(ser)"
   ]
  },
  {
   "cell_type": "markdown",
   "id": "643b3556-3a92-421a-aa75-374f20256c17",
   "metadata": {},
   "source": [
    "### 2.2 DataFrame\n",
    "A DataFrame is a two-dimensional labeled data structure with columns of potentially different types. It is similar to a spreadsheet or SQL table.\n",
    "\n",
    "Creating a DataFrame"
   ]
  },
  {
   "cell_type": "code",
   "execution_count": 22,
   "id": "c3fb5c8d-8ab1-4982-a227-b27e5df3556a",
   "metadata": {
    "tags": []
   },
   "outputs": [
    {
     "data": {
      "text/html": [
       "<div>\n",
       "<style scoped>\n",
       "    .dataframe tbody tr th:only-of-type {\n",
       "        vertical-align: middle;\n",
       "    }\n",
       "\n",
       "    .dataframe tbody tr th {\n",
       "        vertical-align: top;\n",
       "    }\n",
       "\n",
       "    .dataframe thead th {\n",
       "        text-align: right;\n",
       "    }\n",
       "</style>\n",
       "<table border=\"1\" class=\"dataframe\">\n",
       "  <thead>\n",
       "    <tr style=\"text-align: right;\">\n",
       "      <th></th>\n",
       "      <th>column1</th>\n",
       "      <th>column2</th>\n",
       "    </tr>\n",
       "  </thead>\n",
       "  <tbody>\n",
       "    <tr>\n",
       "      <th>0</th>\n",
       "      <td>1.0</td>\n",
       "      <td>A</td>\n",
       "    </tr>\n",
       "    <tr>\n",
       "      <th>1</th>\n",
       "      <td>2.0</td>\n",
       "      <td>B</td>\n",
       "    </tr>\n",
       "    <tr>\n",
       "      <th>2</th>\n",
       "      <td>3.0</td>\n",
       "      <td>C</td>\n",
       "    </tr>\n",
       "    <tr>\n",
       "      <th>3</th>\n",
       "      <td>4.0</td>\n",
       "      <td>D</td>\n",
       "    </tr>\n",
       "    <tr>\n",
       "      <th>4</th>\n",
       "      <td>NaN</td>\n",
       "      <td>E</td>\n",
       "    </tr>\n",
       "    <tr>\n",
       "      <th>5</th>\n",
       "      <td>4.0</td>\n",
       "      <td>D</td>\n",
       "    </tr>\n",
       "  </tbody>\n",
       "</table>\n",
       "</div>"
      ],
      "text/plain": [
       "   column1 column2\n",
       "0      1.0       A\n",
       "1      2.0       B\n",
       "2      3.0       C\n",
       "3      4.0       D\n",
       "4      NaN       E\n",
       "5      4.0       D"
      ]
     },
     "execution_count": 22,
     "metadata": {},
     "output_type": "execute_result"
    }
   ],
   "source": [
    "import numpy as np\n",
    "\n",
    "data = {\n",
    "    'column1': [1, 2, 3, 4, np.nan, 4],\n",
    "    'column2': ['A', 'B', 'C', 'D', 'E', 'D']\n",
    "}\n",
    "df = pd.DataFrame(data)\n",
    "df"
   ]
  },
  {
   "cell_type": "markdown",
   "id": "5587cec6-6d9a-4fc4-b797-6f8c77275312",
   "metadata": {},
   "source": [
    "## 3. Data Cleaning\n",
    "\n",
    "### 3.1 Handling Missing Data\n",
    "Pandas provides various methods to deal with missing data, such as dropna() and fillna().\n",
    "\n",
    "Drop missing data"
   ]
  },
  {
   "cell_type": "code",
   "execution_count": 25,
   "id": "f0478466-b0a8-4e0f-9024-ae74faf5ccc4",
   "metadata": {
    "tags": []
   },
   "outputs": [],
   "source": [
    "df.dropna(inplace=True)"
   ]
  },
  {
   "cell_type": "code",
   "execution_count": 26,
   "id": "4a9bd4cc-5016-45d7-ac8b-986ae9620567",
   "metadata": {
    "tags": []
   },
   "outputs": [
    {
     "data": {
      "text/html": [
       "<div>\n",
       "<style scoped>\n",
       "    .dataframe tbody tr th:only-of-type {\n",
       "        vertical-align: middle;\n",
       "    }\n",
       "\n",
       "    .dataframe tbody tr th {\n",
       "        vertical-align: top;\n",
       "    }\n",
       "\n",
       "    .dataframe thead th {\n",
       "        text-align: right;\n",
       "    }\n",
       "</style>\n",
       "<table border=\"1\" class=\"dataframe\">\n",
       "  <thead>\n",
       "    <tr style=\"text-align: right;\">\n",
       "      <th></th>\n",
       "      <th>column1</th>\n",
       "      <th>column2</th>\n",
       "    </tr>\n",
       "  </thead>\n",
       "  <tbody>\n",
       "    <tr>\n",
       "      <th>0</th>\n",
       "      <td>1.0</td>\n",
       "      <td>A</td>\n",
       "    </tr>\n",
       "    <tr>\n",
       "      <th>1</th>\n",
       "      <td>2.0</td>\n",
       "      <td>B</td>\n",
       "    </tr>\n",
       "    <tr>\n",
       "      <th>2</th>\n",
       "      <td>3.0</td>\n",
       "      <td>C</td>\n",
       "    </tr>\n",
       "    <tr>\n",
       "      <th>3</th>\n",
       "      <td>4.0</td>\n",
       "      <td>D</td>\n",
       "    </tr>\n",
       "    <tr>\n",
       "      <th>5</th>\n",
       "      <td>4.0</td>\n",
       "      <td>D</td>\n",
       "    </tr>\n",
       "  </tbody>\n",
       "</table>\n",
       "</div>"
      ],
      "text/plain": [
       "   column1 column2\n",
       "0      1.0       A\n",
       "1      2.0       B\n",
       "2      3.0       C\n",
       "3      4.0       D\n",
       "5      4.0       D"
      ]
     },
     "execution_count": 26,
     "metadata": {},
     "output_type": "execute_result"
    }
   ],
   "source": [
    "df"
   ]
  },
  {
   "cell_type": "markdown",
   "id": "00f9daad-1df2-4f43-bf90-f027bf192e49",
   "metadata": {},
   "source": [
    "Fill missing data with a specified value"
   ]
  },
  {
   "cell_type": "code",
   "execution_count": 20,
   "id": "1ee86286-f03b-4ed0-b7a7-acb7fa795ff6",
   "metadata": {
    "tags": []
   },
   "outputs": [
    {
     "data": {
      "text/html": [
       "<div>\n",
       "<style scoped>\n",
       "    .dataframe tbody tr th:only-of-type {\n",
       "        vertical-align: middle;\n",
       "    }\n",
       "\n",
       "    .dataframe tbody tr th {\n",
       "        vertical-align: top;\n",
       "    }\n",
       "\n",
       "    .dataframe thead th {\n",
       "        text-align: right;\n",
       "    }\n",
       "</style>\n",
       "<table border=\"1\" class=\"dataframe\">\n",
       "  <thead>\n",
       "    <tr style=\"text-align: right;\">\n",
       "      <th></th>\n",
       "      <th>column1</th>\n",
       "      <th>column2</th>\n",
       "    </tr>\n",
       "  </thead>\n",
       "  <tbody>\n",
       "    <tr>\n",
       "      <th>0</th>\n",
       "      <td>1.0</td>\n",
       "      <td>A</td>\n",
       "    </tr>\n",
       "    <tr>\n",
       "      <th>1</th>\n",
       "      <td>2.0</td>\n",
       "      <td>B</td>\n",
       "    </tr>\n",
       "    <tr>\n",
       "      <th>2</th>\n",
       "      <td>3.0</td>\n",
       "      <td>C</td>\n",
       "    </tr>\n",
       "    <tr>\n",
       "      <th>3</th>\n",
       "      <td>4.0</td>\n",
       "      <td>D</td>\n",
       "    </tr>\n",
       "    <tr>\n",
       "      <th>4</th>\n",
       "      <td>1.0</td>\n",
       "      <td>E</td>\n",
       "    </tr>\n",
       "  </tbody>\n",
       "</table>\n",
       "</div>"
      ],
      "text/plain": [
       "   column1 column2\n",
       "0      1.0       A\n",
       "1      2.0       B\n",
       "2      3.0       C\n",
       "3      4.0       D\n",
       "4      1.0       E"
      ]
     },
     "execution_count": 20,
     "metadata": {},
     "output_type": "execute_result"
    }
   ],
   "source": [
    "df.fillna(value=1)"
   ]
  },
  {
   "cell_type": "markdown",
   "id": "b0c03e9e-71ff-43c4-a830-2e0bada77f7b",
   "metadata": {},
   "source": [
    "### 3.2 Removing Duplicates\n",
    "Use the drop_duplicates() method to remove duplicate rows from a DataFrame."
   ]
  },
  {
   "cell_type": "code",
   "execution_count": 24,
   "id": "7bcdae04-0eff-4dea-aae0-8640c1cf583f",
   "metadata": {
    "tags": []
   },
   "outputs": [
    {
     "data": {
      "text/html": [
       "<div>\n",
       "<style scoped>\n",
       "    .dataframe tbody tr th:only-of-type {\n",
       "        vertical-align: middle;\n",
       "    }\n",
       "\n",
       "    .dataframe tbody tr th {\n",
       "        vertical-align: top;\n",
       "    }\n",
       "\n",
       "    .dataframe thead th {\n",
       "        text-align: right;\n",
       "    }\n",
       "</style>\n",
       "<table border=\"1\" class=\"dataframe\">\n",
       "  <thead>\n",
       "    <tr style=\"text-align: right;\">\n",
       "      <th></th>\n",
       "      <th>column1</th>\n",
       "      <th>column2</th>\n",
       "    </tr>\n",
       "  </thead>\n",
       "  <tbody>\n",
       "    <tr>\n",
       "      <th>0</th>\n",
       "      <td>1.0</td>\n",
       "      <td>A</td>\n",
       "    </tr>\n",
       "    <tr>\n",
       "      <th>1</th>\n",
       "      <td>2.0</td>\n",
       "      <td>B</td>\n",
       "    </tr>\n",
       "    <tr>\n",
       "      <th>2</th>\n",
       "      <td>3.0</td>\n",
       "      <td>C</td>\n",
       "    </tr>\n",
       "    <tr>\n",
       "      <th>3</th>\n",
       "      <td>4.0</td>\n",
       "      <td>D</td>\n",
       "    </tr>\n",
       "    <tr>\n",
       "      <th>4</th>\n",
       "      <td>NaN</td>\n",
       "      <td>E</td>\n",
       "    </tr>\n",
       "    <tr>\n",
       "      <th>5</th>\n",
       "      <td>4.0</td>\n",
       "      <td>D</td>\n",
       "    </tr>\n",
       "  </tbody>\n",
       "</table>\n",
       "</div>"
      ],
      "text/plain": [
       "   column1 column2\n",
       "0      1.0       A\n",
       "1      2.0       B\n",
       "2      3.0       C\n",
       "3      4.0       D\n",
       "4      NaN       E\n",
       "5      4.0       D"
      ]
     },
     "execution_count": 24,
     "metadata": {},
     "output_type": "execute_result"
    }
   ],
   "source": [
    "df"
   ]
  },
  {
   "cell_type": "code",
   "execution_count": 23,
   "id": "0f9f1dc8-f0c9-491e-9586-6f046002f309",
   "metadata": {
    "tags": []
   },
   "outputs": [
    {
     "data": {
      "text/html": [
       "<div>\n",
       "<style scoped>\n",
       "    .dataframe tbody tr th:only-of-type {\n",
       "        vertical-align: middle;\n",
       "    }\n",
       "\n",
       "    .dataframe tbody tr th {\n",
       "        vertical-align: top;\n",
       "    }\n",
       "\n",
       "    .dataframe thead th {\n",
       "        text-align: right;\n",
       "    }\n",
       "</style>\n",
       "<table border=\"1\" class=\"dataframe\">\n",
       "  <thead>\n",
       "    <tr style=\"text-align: right;\">\n",
       "      <th></th>\n",
       "      <th>column1</th>\n",
       "      <th>column2</th>\n",
       "    </tr>\n",
       "  </thead>\n",
       "  <tbody>\n",
       "    <tr>\n",
       "      <th>0</th>\n",
       "      <td>1.0</td>\n",
       "      <td>A</td>\n",
       "    </tr>\n",
       "    <tr>\n",
       "      <th>1</th>\n",
       "      <td>2.0</td>\n",
       "      <td>B</td>\n",
       "    </tr>\n",
       "    <tr>\n",
       "      <th>2</th>\n",
       "      <td>3.0</td>\n",
       "      <td>C</td>\n",
       "    </tr>\n",
       "    <tr>\n",
       "      <th>3</th>\n",
       "      <td>4.0</td>\n",
       "      <td>D</td>\n",
       "    </tr>\n",
       "    <tr>\n",
       "      <th>4</th>\n",
       "      <td>NaN</td>\n",
       "      <td>E</td>\n",
       "    </tr>\n",
       "  </tbody>\n",
       "</table>\n",
       "</div>"
      ],
      "text/plain": [
       "   column1 column2\n",
       "0      1.0       A\n",
       "1      2.0       B\n",
       "2      3.0       C\n",
       "3      4.0       D\n",
       "4      NaN       E"
      ]
     },
     "execution_count": 23,
     "metadata": {},
     "output_type": "execute_result"
    }
   ],
   "source": [
    "df.drop_duplicates()"
   ]
  },
  {
   "cell_type": "markdown",
   "id": "c1b2424c-b507-4483-a940-be7f9c209375",
   "metadata": {},
   "source": [
    "## 4. Data Transformation"
   ]
  },
  {
   "cell_type": "markdown",
   "id": "58e0c80a-9564-4838-9017-70ab7b93ff7b",
   "metadata": {},
   "source": [
    "### 4.1 Renaming Columns\n",
    "You can rename columns in a DataFrame using the rename() method."
   ]
  },
  {
   "cell_type": "code",
   "execution_count": 27,
   "id": "78b4f73e-2d1f-404b-96f4-a6f30a605c45",
   "metadata": {
    "tags": []
   },
   "outputs": [
    {
     "data": {
      "text/html": [
       "<div>\n",
       "<style scoped>\n",
       "    .dataframe tbody tr th:only-of-type {\n",
       "        vertical-align: middle;\n",
       "    }\n",
       "\n",
       "    .dataframe tbody tr th {\n",
       "        vertical-align: top;\n",
       "    }\n",
       "\n",
       "    .dataframe thead th {\n",
       "        text-align: right;\n",
       "    }\n",
       "</style>\n",
       "<table border=\"1\" class=\"dataframe\">\n",
       "  <thead>\n",
       "    <tr style=\"text-align: right;\">\n",
       "      <th></th>\n",
       "      <th>new_name</th>\n",
       "      <th>column2</th>\n",
       "    </tr>\n",
       "  </thead>\n",
       "  <tbody>\n",
       "    <tr>\n",
       "      <th>0</th>\n",
       "      <td>1.0</td>\n",
       "      <td>A</td>\n",
       "    </tr>\n",
       "    <tr>\n",
       "      <th>1</th>\n",
       "      <td>2.0</td>\n",
       "      <td>B</td>\n",
       "    </tr>\n",
       "    <tr>\n",
       "      <th>2</th>\n",
       "      <td>3.0</td>\n",
       "      <td>C</td>\n",
       "    </tr>\n",
       "    <tr>\n",
       "      <th>3</th>\n",
       "      <td>4.0</td>\n",
       "      <td>D</td>\n",
       "    </tr>\n",
       "    <tr>\n",
       "      <th>5</th>\n",
       "      <td>4.0</td>\n",
       "      <td>D</td>\n",
       "    </tr>\n",
       "  </tbody>\n",
       "</table>\n",
       "</div>"
      ],
      "text/plain": [
       "   new_name column2\n",
       "0       1.0       A\n",
       "1       2.0       B\n",
       "2       3.0       C\n",
       "3       4.0       D\n",
       "5       4.0       D"
      ]
     },
     "execution_count": 27,
     "metadata": {},
     "output_type": "execute_result"
    }
   ],
   "source": [
    "df.rename(columns={'column1': 'new_name', 'column2': 'new_name2'}, inplace=True)\n",
    "df"
   ]
  },
  {
   "cell_type": "markdown",
   "id": "09032188-c490-4192-8fba-b15ee6a8715a",
   "metadata": {},
   "source": [
    "### 4.2 Replacing Values\n",
    "To replace values in a DataFrame, you can use the replace() method."
   ]
  },
  {
   "cell_type": "code",
   "execution_count": 28,
   "id": "ca668851-7ba6-485d-9a2a-a1afa2067dfb",
   "metadata": {
    "tags": []
   },
   "outputs": [
    {
     "data": {
      "text/html": [
       "<div>\n",
       "<style scoped>\n",
       "    .dataframe tbody tr th:only-of-type {\n",
       "        vertical-align: middle;\n",
       "    }\n",
       "\n",
       "    .dataframe tbody tr th {\n",
       "        vertical-align: top;\n",
       "    }\n",
       "\n",
       "    .dataframe thead th {\n",
       "        text-align: right;\n",
       "    }\n",
       "</style>\n",
       "<table border=\"1\" class=\"dataframe\">\n",
       "  <thead>\n",
       "    <tr style=\"text-align: right;\">\n",
       "      <th></th>\n",
       "      <th>new_name</th>\n",
       "      <th>column2</th>\n",
       "    </tr>\n",
       "  </thead>\n",
       "  <tbody>\n",
       "    <tr>\n",
       "      <th>0</th>\n",
       "      <td>1.0</td>\n",
       "      <td>A</td>\n",
       "    </tr>\n",
       "    <tr>\n",
       "      <th>1</th>\n",
       "      <td>2.0</td>\n",
       "      <td>B</td>\n",
       "    </tr>\n",
       "    <tr>\n",
       "      <th>2</th>\n",
       "      <td>3.0</td>\n",
       "      <td>C</td>\n",
       "    </tr>\n",
       "    <tr>\n",
       "      <th>3</th>\n",
       "      <td>5.0</td>\n",
       "      <td>D</td>\n",
       "    </tr>\n",
       "    <tr>\n",
       "      <th>5</th>\n",
       "      <td>5.0</td>\n",
       "      <td>D</td>\n",
       "    </tr>\n",
       "  </tbody>\n",
       "</table>\n",
       "</div>"
      ],
      "text/plain": [
       "   new_name column2\n",
       "0       1.0       A\n",
       "1       2.0       B\n",
       "2       3.0       C\n",
       "3       5.0       D\n",
       "5       5.0       D"
      ]
     },
     "execution_count": 28,
     "metadata": {},
     "output_type": "execute_result"
    }
   ],
   "source": [
    "df.replace({4:5}, inplace=True)\n",
    "df"
   ]
  },
  {
   "cell_type": "code",
   "execution_count": 29,
   "id": "57a5c3e5-27a7-4f63-88f9-bcc4c0808b67",
   "metadata": {
    "tags": []
   },
   "outputs": [],
   "source": [
    "df.loc[3, \"new_name\"] = 4"
   ]
  },
  {
   "cell_type": "code",
   "execution_count": 30,
   "id": "a514cfe8-ce60-40af-8199-a8c5039e8bb8",
   "metadata": {
    "tags": []
   },
   "outputs": [
    {
     "data": {
      "text/html": [
       "<div>\n",
       "<style scoped>\n",
       "    .dataframe tbody tr th:only-of-type {\n",
       "        vertical-align: middle;\n",
       "    }\n",
       "\n",
       "    .dataframe tbody tr th {\n",
       "        vertical-align: top;\n",
       "    }\n",
       "\n",
       "    .dataframe thead th {\n",
       "        text-align: right;\n",
       "    }\n",
       "</style>\n",
       "<table border=\"1\" class=\"dataframe\">\n",
       "  <thead>\n",
       "    <tr style=\"text-align: right;\">\n",
       "      <th></th>\n",
       "      <th>new_name</th>\n",
       "      <th>column2</th>\n",
       "    </tr>\n",
       "  </thead>\n",
       "  <tbody>\n",
       "    <tr>\n",
       "      <th>0</th>\n",
       "      <td>1.0</td>\n",
       "      <td>A</td>\n",
       "    </tr>\n",
       "    <tr>\n",
       "      <th>1</th>\n",
       "      <td>2.0</td>\n",
       "      <td>B</td>\n",
       "    </tr>\n",
       "    <tr>\n",
       "      <th>2</th>\n",
       "      <td>3.0</td>\n",
       "      <td>C</td>\n",
       "    </tr>\n",
       "    <tr>\n",
       "      <th>3</th>\n",
       "      <td>4.0</td>\n",
       "      <td>D</td>\n",
       "    </tr>\n",
       "    <tr>\n",
       "      <th>5</th>\n",
       "      <td>5.0</td>\n",
       "      <td>D</td>\n",
       "    </tr>\n",
       "  </tbody>\n",
       "</table>\n",
       "</div>"
      ],
      "text/plain": [
       "   new_name column2\n",
       "0       1.0       A\n",
       "1       2.0       B\n",
       "2       3.0       C\n",
       "3       4.0       D\n",
       "5       5.0       D"
      ]
     },
     "execution_count": 30,
     "metadata": {},
     "output_type": "execute_result"
    }
   ],
   "source": [
    "df"
   ]
  },
  {
   "cell_type": "markdown",
   "id": "e027ce18-0125-4b03-8655-765030f4b2a6",
   "metadata": {},
   "source": [
    "### 4.3 Sorting Data\n",
    "You can sort a DataFrame by the values in one or more columns using the sort_values() method."
   ]
  },
  {
   "cell_type": "code",
   "execution_count": 31,
   "id": "165fb0fd-79cc-45db-9b23-d52e86a66a2e",
   "metadata": {
    "tags": []
   },
   "outputs": [
    {
     "data": {
      "text/html": [
       "<div>\n",
       "<style scoped>\n",
       "    .dataframe tbody tr th:only-of-type {\n",
       "        vertical-align: middle;\n",
       "    }\n",
       "\n",
       "    .dataframe tbody tr th {\n",
       "        vertical-align: top;\n",
       "    }\n",
       "\n",
       "    .dataframe thead th {\n",
       "        text-align: right;\n",
       "    }\n",
       "</style>\n",
       "<table border=\"1\" class=\"dataframe\">\n",
       "  <thead>\n",
       "    <tr style=\"text-align: right;\">\n",
       "      <th></th>\n",
       "      <th>new_name</th>\n",
       "      <th>column2</th>\n",
       "    </tr>\n",
       "  </thead>\n",
       "  <tbody>\n",
       "    <tr>\n",
       "      <th>0</th>\n",
       "      <td>1.0</td>\n",
       "      <td>A</td>\n",
       "    </tr>\n",
       "    <tr>\n",
       "      <th>1</th>\n",
       "      <td>2.0</td>\n",
       "      <td>B</td>\n",
       "    </tr>\n",
       "    <tr>\n",
       "      <th>2</th>\n",
       "      <td>3.0</td>\n",
       "      <td>C</td>\n",
       "    </tr>\n",
       "    <tr>\n",
       "      <th>3</th>\n",
       "      <td>4.0</td>\n",
       "      <td>D</td>\n",
       "    </tr>\n",
       "    <tr>\n",
       "      <th>5</th>\n",
       "      <td>5.0</td>\n",
       "      <td>D</td>\n",
       "    </tr>\n",
       "  </tbody>\n",
       "</table>\n",
       "</div>"
      ],
      "text/plain": [
       "   new_name column2\n",
       "0       1.0       A\n",
       "1       2.0       B\n",
       "2       3.0       C\n",
       "3       4.0       D\n",
       "5       5.0       D"
      ]
     },
     "execution_count": 31,
     "metadata": {},
     "output_type": "execute_result"
    }
   ],
   "source": [
    "df"
   ]
  },
  {
   "cell_type": "code",
   "execution_count": 34,
   "id": "ceea959c-2d14-4096-9b14-fc3d61257b36",
   "metadata": {
    "tags": []
   },
   "outputs": [],
   "source": [
    "df.sort_values(by=['new_name'], ascending=False, inplace=True)"
   ]
  },
  {
   "cell_type": "code",
   "execution_count": 35,
   "id": "d35ea4d6-cb7b-4679-8310-3cd934c4015c",
   "metadata": {
    "tags": []
   },
   "outputs": [
    {
     "data": {
      "text/html": [
       "<div>\n",
       "<style scoped>\n",
       "    .dataframe tbody tr th:only-of-type {\n",
       "        vertical-align: middle;\n",
       "    }\n",
       "\n",
       "    .dataframe tbody tr th {\n",
       "        vertical-align: top;\n",
       "    }\n",
       "\n",
       "    .dataframe thead th {\n",
       "        text-align: right;\n",
       "    }\n",
       "</style>\n",
       "<table border=\"1\" class=\"dataframe\">\n",
       "  <thead>\n",
       "    <tr style=\"text-align: right;\">\n",
       "      <th></th>\n",
       "      <th>new_name</th>\n",
       "      <th>column2</th>\n",
       "    </tr>\n",
       "  </thead>\n",
       "  <tbody>\n",
       "    <tr>\n",
       "      <th>5</th>\n",
       "      <td>5.0</td>\n",
       "      <td>D</td>\n",
       "    </tr>\n",
       "    <tr>\n",
       "      <th>3</th>\n",
       "      <td>4.0</td>\n",
       "      <td>D</td>\n",
       "    </tr>\n",
       "    <tr>\n",
       "      <th>2</th>\n",
       "      <td>3.0</td>\n",
       "      <td>C</td>\n",
       "    </tr>\n",
       "    <tr>\n",
       "      <th>1</th>\n",
       "      <td>2.0</td>\n",
       "      <td>B</td>\n",
       "    </tr>\n",
       "    <tr>\n",
       "      <th>0</th>\n",
       "      <td>1.0</td>\n",
       "      <td>A</td>\n",
       "    </tr>\n",
       "  </tbody>\n",
       "</table>\n",
       "</div>"
      ],
      "text/plain": [
       "   new_name column2\n",
       "5       5.0       D\n",
       "3       4.0       D\n",
       "2       3.0       C\n",
       "1       2.0       B\n",
       "0       1.0       A"
      ]
     },
     "execution_count": 35,
     "metadata": {},
     "output_type": "execute_result"
    }
   ],
   "source": [
    "df"
   ]
  },
  {
   "cell_type": "markdown",
   "id": "c387f749-4231-4f70-a83d-4ada70be2046",
   "metadata": {},
   "source": [
    "## 5. Read & Write Data from an Existing file"
   ]
  },
  {
   "cell_type": "markdown",
   "id": "171c3e82-a5f9-4412-9c61-aae52bdd9db7",
   "metadata": {},
   "source": [
    "### 5.1 Reading from csv/Excel"
   ]
  },
  {
   "cell_type": "code",
   "execution_count": null,
   "id": "debbb562-2c2e-4bb5-8d20-eebbfe2fc0db",
   "metadata": {
    "tags": []
   },
   "outputs": [],
   "source": [
    "# !pip install openpyxl"
   ]
  },
  {
   "cell_type": "code",
   "execution_count": null,
   "id": "050fc927-f4cc-4587-9154-70e04e899556",
   "metadata": {
    "tags": []
   },
   "outputs": [],
   "source": [
    "file1 = \"pre-course_survey.csv\"\n",
    "file2 = \"pre-course_survey.xlsx\"\n",
    "\n",
    "df_csv = pd.read_csv(file1)\n",
    "df_excel = pd.read_excel(file2)\n",
    "df_csv.shape, df_excel.shape"
   ]
  },
  {
   "cell_type": "code",
   "execution_count": null,
   "id": "b682f7b6-2ec0-4289-831e-82f3ae6e68e8",
   "metadata": {
    "tags": []
   },
   "outputs": [],
   "source": [
    "df_csv"
   ]
  },
  {
   "cell_type": "code",
   "execution_count": null,
   "id": "45123342-8dbc-4d80-b911-272704d97169",
   "metadata": {
    "tags": []
   },
   "outputs": [],
   "source": [
    "df_excel"
   ]
  },
  {
   "cell_type": "markdown",
   "id": "2bab1056-c442-46b9-82e0-f75dad7073f1",
   "metadata": {},
   "source": [
    "### 5.2 Renaming Columns"
   ]
  },
  {
   "cell_type": "code",
   "execution_count": null,
   "id": "bad1588e-0bf2-4d8d-a2e6-1b5e745e67c6",
   "metadata": {
    "tags": []
   },
   "outputs": [],
   "source": [
    "old_cols = df_csv.columns\n",
    "new_cols = [\"timestamp\", \"python\", \"datascience\", \"git\", \"jupyter\", \"reproducibility\", \"nlp\", \"socialmedia_data\", \"goals\", \"skills\", \"concerns\"]\n",
    "cols_dict = dict(zip(old_cols, new_cols))"
   ]
  },
  {
   "cell_type": "code",
   "execution_count": null,
   "id": "dddd4ccb-68b7-421d-9326-850ae1f88cdd",
   "metadata": {
    "tags": []
   },
   "outputs": [],
   "source": [
    "df_csv.rename(columns=cols_dict, inplace=True)"
   ]
  },
  {
   "cell_type": "code",
   "execution_count": null,
   "id": "8f0e382b-c458-41e6-b5da-aee369f907e3",
   "metadata": {
    "tags": []
   },
   "outputs": [],
   "source": [
    "df_csv"
   ]
  },
  {
   "cell_type": "markdown",
   "id": "bec139a9-3623-4274-86ec-752d3039e63c",
   "metadata": {},
   "source": [
    "### 5.3 Describing Data"
   ]
  },
  {
   "cell_type": "code",
   "execution_count": null,
   "id": "4310eb6a-2abe-4715-a881-669f7b57d76a",
   "metadata": {
    "tags": []
   },
   "outputs": [],
   "source": [
    "df_csv.describe()"
   ]
  },
  {
   "cell_type": "code",
   "execution_count": null,
   "id": "06f38574-b189-4054-b524-b3ebe89568d7",
   "metadata": {
    "tags": []
   },
   "outputs": [],
   "source": [
    "df_csv[\"python\"].value_counts()"
   ]
  },
  {
   "cell_type": "code",
   "execution_count": null,
   "id": "2c4969e2-f4c4-4f8a-8afc-7d975493b9bf",
   "metadata": {
    "tags": []
   },
   "outputs": [],
   "source": [
    "df_csv"
   ]
  },
  {
   "cell_type": "code",
   "execution_count": null,
   "id": "f0085e19-9181-4f3f-ab3e-90c3789e0b26",
   "metadata": {
    "tags": []
   },
   "outputs": [],
   "source": [
    "df_csv.columns"
   ]
  },
  {
   "cell_type": "markdown",
   "id": "6a126969-7cb3-4d2a-8071-24b24c9ec871",
   "metadata": {},
   "source": [
    "### Exercise 1\n",
    "\n",
    "1. Find columns that have values \"Yes/No\". \n",
    "2. Convert \"Yes/No\" to \"1/0\" for all of those columns. \n",
    "3. Count how many \"1\" and \"0\" in each column."
   ]
  },
  {
   "cell_type": "markdown",
   "id": "57d3148b-d15f-49ac-8228-28ead0dfa42f",
   "metadata": {},
   "source": [
    "### Exercise 2\n",
    "\n",
    "1. identify the row(s) where the participant's \"reproducibility\" == 5\n",
    "2. find the \"goals\", \"skills\", and \"concerns\" for that participant. hint: `df.loc`"
   ]
  },
  {
   "cell_type": "code",
   "execution_count": null,
   "id": "9cb3dbc8-ee2f-4fa7-bde0-b45a154932ab",
   "metadata": {},
   "outputs": [],
   "source": []
  }
 ],
 "metadata": {
  "kernelspec": {
   "display_name": "Python 3 (ipykernel)",
   "language": "python",
   "name": "python3"
  },
  "language_info": {
   "codemirror_mode": {
    "name": "ipython",
    "version": 3
   },
   "file_extension": ".py",
   "mimetype": "text/x-python",
   "name": "python",
   "nbconvert_exporter": "python",
   "pygments_lexer": "ipython3",
   "version": "3.10.9"
  }
 },
 "nbformat": 4,
 "nbformat_minor": 5
}
