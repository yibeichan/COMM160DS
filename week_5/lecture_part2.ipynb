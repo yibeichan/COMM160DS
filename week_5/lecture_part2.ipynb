{
 "cells": [
  {
   "cell_type": "markdown",
   "id": "1f16686a-b4d1-4b2a-a61a-a5a716c15a64",
   "metadata": {},
   "source": [
    "# Overview of Text Data Analysis and Introduction to NLP"
   ]
  },
  {
   "cell_type": "markdown",
   "id": "0ca4a065-ea34-4d18-ad1c-405eb439ccbe",
   "metadata": {},
   "source": [
    "## Introduction\n",
    "\n",
    "Natural Language Processing (NLP) is a subfield of artificial intelligence and linguistics that focuses on enabling computers to understand, interpret, and generate human language. Text data analysis is an essential part of NLP, as it allows us to extract valuable information and insights from large volumes of unstructured text data. In this notebook, we will cover some fundamental techniques used in text data analysis, including tokenization, stopword removal, stemming, lemmatization, and text feature extraction. We will also introduce some popular Python libraries used in NLP, such as NLTK, spaCy, and TextBlob.\n",
    "\n",
    "Before diving into the techniques, it's essential to understand the purpose of each step in the text data analysis process:\n",
    "\n",
    "- **Regular Expressions:** Regular expressions are a powerful tool for pattern matching and searching within text data. They allow you to create complex patterns using a specific syntax and then match these patterns against text data. Regular expressions are particularly helpful in text preprocessing tasks, such as data cleaning and extraction.\n",
    "- **Tokenization:** Tokenization is the process of breaking down the text into individual words or tokens. This step is crucial because it allows us to analyze the text at the word level and build a structured representation of the data.\n",
    "- **Stopword Removal:** Stopwords are common words that do not carry much meaningful information (e.g., \"a\", \"an\", \"the\"). Removing stopwords helps reduce the dimensionality of the data and focus on more relevant words.\n",
    "- **Stemming:** Stemming is the process of reducing words to their root or base form (e.g., \"running\" -> \"run\"). This step helps in consolidating similar words and reducing the overall complexity of the text.\n",
    "- **Lemmatization:** Similar to stemming, lemmatization is the process of converting words to their base form, but it considers the context and part of speech to derive the root word (e.g., \"better\" -> \"good\"). It is more accurate than stemming but can be computationally more expensive.\n",
    "- **Text Feature Extraction:** Feature extraction involves converting the text into a numerical representation that can be used as input for machine learning algorithms. Common techniques include Bag of Words and Term Frequency-Inverse Document Frequency (TF-IDF).\n",
    "\n",
    "These steps play a vital role in preparing the text data for further analysis, making it easier for algorithms to extract meaningful insights and perform advanced NLP tasks."
   ]
  },
  {
   "cell_type": "markdown",
   "id": "0bc4d4be-5b76-4f9e-90c8-d2a071fb2f4a",
   "metadata": {},
   "source": [
    "## 2. Regular Expressions"
   ]
  },
  {
   "cell_type": "markdown",
   "id": "17f13a45-727c-4297-932d-6fdafbbe785c",
   "metadata": {
    "tags": []
   },
   "source": [
    "Regular expressions (regex) are a powerful tool for pattern matching and searching within text data. The regex syntax is a combination of special characters and literal text that defines a search pattern. Here is an overview of some common regex syntax elements:\n",
    "\n",
    "1. Literal characters: Regular characters match themselves exactly, e.g., a, b, c.\n",
    "2. Special characters: Special characters have a specific meaning in the regex syntax, such as:\n",
    "    - `.`: Matches any single character except a newline.\n",
    "    - `^`: Matches the start of a string.\n",
    "    - `$`: Matches the end of a string.\n",
    "    - `*`: Matches zero or more repetitions of the preceding character or group.\n",
    "    - `+`: Matches one or more repetitions of the preceding character or group.\n",
    "    - `?`: Matches zero or one repetition of the preceding character or group.\n",
    "    - `{m,n}`: Matches at least m and at most n repetitions of the preceding character or group.\n",
    "    - `[ ]`: Defines a character set. Matches any single character inside the brackets. E.g., [abc] matches either a, b, or c.\n",
    "    - `( )`: Groups characters or regex patterns. It allows you to apply quantifiers or other regex elements to the entire group.\n",
    "    - `|`: Acts as an OR operator. Matches either the pattern before or after the |. E.g., a|b matches either a or b.\n",
    "    - `\\`: Escapes special characters, making them literal characters. E.g., \\. matches a period, not any character.\n",
    "3. Character classes: Predefined character sets that match specific types of characters:\n",
    "    - `\\d`: Matches any decimal digit (0-9).\n",
    "    - `\\D`: Matches any non-digit character.\n",
    "    - `\\s`: Matches any whitespace character (space, tab, newline).\n",
    "    - `\\S`: Matches any non-whitespace character.\n",
    "    - `\\w`: Matches any word character (letters, digits, or underscores).\n",
    "    - `\\W`: Matches any non-word character.\n",
    "4. Lookahead and lookbehind assertions: These allow you to match a pattern based on what comes before or after it without including the matched text in the result:\n",
    "    - `(?=...)`: Positive lookahead. Matches if the pattern inside the lookahead is found after the current position.\n",
    "    - `(?!...)`: Negative lookahead. Matches if the pattern inside the lookahead is not found after the current position.\n",
    "    - `(?<=...)`: Positive lookbehind. Matches if the pattern inside the lookbehind is found before the current position.\n",
    "    - `(?<!...)`: Negative lookbehind. Matches if the pattern inside the lookbehind is not found before the current position.\n",
    "\n",
    "These are just some of the basic regex syntax elements. Regular expressions can become very complex as you combine these elements to create more advanced patterns. To practice and learn more about regex syntax, you can use online tools like [regex101.com](regex101.com) or [regexr.com](regexr.com)."
   ]
  },
  {
   "cell_type": "code",
   "execution_count": 17,
   "id": "c6fa73f3-1d81-4e28-86ad-fd7a6c3c8fb6",
   "metadata": {
    "tags": []
   },
   "outputs": [
    {
     "name": "stdout",
     "output_type": "stream",
     "text": [
      "Matches: ['rain', 'Spain', 'plain']\n"
     ]
    }
   ],
   "source": [
    "import re\n",
    "\n",
    "# Sample text\n",
    "text = \"The rain in Spain falls mainly on the plain.\"\n",
    "\n",
    "# Define a regular expression pattern\n",
    "pattern = r\"[a-zA-Z]*ain\\b\"\n",
    "\n",
    "# Find all occurrences of the pattern in the text\n",
    "matches = re.findall(pattern, text)\n",
    "\n",
    "print(\"Matches:\", matches)"
   ]
  },
  {
   "cell_type": "markdown",
   "id": "72649657-797f-424f-8964-47799607a872",
   "metadata": {},
   "source": [
    "In this example, we're searching for words that start with a capital \"S\". The regular expression pattern r\"\\bS\\w+\" is defined as follows:\n",
    "\n",
    "`\\b`: a word boundary\n",
    "\n",
    "`S`: the capital letter \"S\"\n",
    "\n",
    "`\\w+`: one or more word characters (letters, digits, or underscores)"
   ]
  },
  {
   "cell_type": "markdown",
   "id": "996cdc09-ce94-4a84-92fc-e709a7c9c331",
   "metadata": {},
   "source": [
    "## 3. Tokenization\n",
    "\n",
    "Tokenization is the process of splitting a text into smaller units called tokens, usually words or phrases. This is an essential step in text data preprocessing."
   ]
  },
  {
   "cell_type": "code",
   "execution_count": 18,
   "id": "78443a2c-38f0-4467-929a-4872e9083d11",
   "metadata": {
    "tags": []
   },
   "outputs": [
    {
     "name": "stdout",
     "output_type": "stream",
     "text": [
      "Requirement already satisfied: nltk in /opt/conda/lib/python3.10/site-packages (3.8.1)\n",
      "Requirement already satisfied: joblib in /opt/conda/lib/python3.10/site-packages (from nltk) (1.2.0)\n",
      "Requirement already satisfied: tqdm in /opt/conda/lib/python3.10/site-packages (from nltk) (4.65.0)\n",
      "Requirement already satisfied: regex>=2021.8.3 in /opt/conda/lib/python3.10/site-packages (from nltk) (2023.5.5)\n",
      "Requirement already satisfied: click in /opt/conda/lib/python3.10/site-packages (from nltk) (8.1.3)\n"
     ]
    }
   ],
   "source": [
    "!pip install nltk"
   ]
  },
  {
   "cell_type": "code",
   "execution_count": 19,
   "id": "ad4fa63b-2f6d-4e3e-8c75-7e3012a64a1e",
   "metadata": {
    "tags": []
   },
   "outputs": [
    {
     "name": "stdout",
     "output_type": "stream",
     "text": [
      "Word tokens:\n",
      "['Tokenization', 'is', 'an', 'essential', 'step', 'in', 'NLP', '.', 'It', 'helps', 'in', 'breaking', 'down', 'text', 'into', 'smaller', 'units', '.']\n",
      "\n",
      "Sentence tokens:\n",
      "['Tokenization is an essential step in NLP.', 'It helps in breaking down text into smaller units.']\n"
     ]
    },
    {
     "name": "stderr",
     "output_type": "stream",
     "text": [
      "[nltk_data] Downloading package punkt to /home/jovyan/nltk_data...\n",
      "[nltk_data]   Package punkt is already up-to-date!\n"
     ]
    }
   ],
   "source": [
    "import nltk\n",
    "nltk.download('punkt')\n",
    "from nltk.tokenize import word_tokenize, sent_tokenize\n",
    "\n",
    "sample_text = \"Tokenization is an essential step in NLP. It helps in breaking down text into smaller units.\"\n",
    "\n",
    "# Word tokenization\n",
    "word_tokens = word_tokenize(sample_text)\n",
    "print(\"Word tokens:\")\n",
    "print(word_tokens)\n",
    "\n",
    "# Sentence tokenization\n",
    "sent_tokens = sent_tokenize(sample_text)\n",
    "print(\"\\nSentence tokens:\")\n",
    "print(sent_tokens)"
   ]
  },
  {
   "cell_type": "markdown",
   "id": "40ee380a-8508-4640-8aea-c4acef0273bf",
   "metadata": {},
   "source": [
    "## 4. Stopword Removal\n",
    "\n",
    "Stopwords are common words that don't carry much meaning and are often removed from text data during preprocessing. Examples include \"a,\" \"an,\" \"the,\" \"in,\" and \"is.\""
   ]
  },
  {
   "cell_type": "code",
   "execution_count": 26,
   "id": "7cd8097f-a576-490d-88ff-408e8903e5fa",
   "metadata": {
    "tags": []
   },
   "outputs": [
    {
     "name": "stderr",
     "output_type": "stream",
     "text": [
      "[nltk_data] Downloading package stopwords to /home/jovyan/nltk_data...\n",
      "[nltk_data]   Package stopwords is already up-to-date!\n"
     ]
    },
    {
     "data": {
      "text/plain": [
       "179"
      ]
     },
     "execution_count": 26,
     "metadata": {},
     "output_type": "execute_result"
    }
   ],
   "source": [
    "nltk.download('stopwords')\n",
    "from nltk.corpus import stopwords\n",
    "\n",
    "stop_words = set(stopwords.words('english'))\n",
    "\n",
    "len(stop_words)"
   ]
  },
  {
   "cell_type": "code",
   "execution_count": 37,
   "id": "31d79e97-3fe0-40d8-a4f2-baed78bb2f1e",
   "metadata": {
    "tags": []
   },
   "outputs": [],
   "source": [
    "filtered_tokens_2 = []\n",
    "for token in word_tokens:\n",
    "    if token.lower() not in stop_words:\n",
    "        filtered_tokens_2.append(token)"
   ]
  },
  {
   "cell_type": "code",
   "execution_count": 38,
   "id": "1e01b55f-685f-4cb2-8694-9fff33a92d65",
   "metadata": {
    "tags": []
   },
   "outputs": [],
   "source": [
    "filtered_tokens_3 = []\n",
    "for token in word_tokens:\n",
    "    if token.lower() not in [\".\", \";\", \"!\"]:\n",
    "        filtered_tokens_3.append(token)"
   ]
  },
  {
   "cell_type": "code",
   "execution_count": 46,
   "id": "4ff00f97-3a72-45f1-b5be-fc8a070bdfcc",
   "metadata": {
    "tags": []
   },
   "outputs": [],
   "source": [
    "filtered_tokens_4 = []\n",
    "for token in word_tokens:\n",
    "    if token.lower() not in [\".\", \";\", \"!\"]:\n",
    "        if token.lower() not in stop_words:\n",
    "            filtered_tokens_4.append(token)"
   ]
  },
  {
   "cell_type": "code",
   "execution_count": 29,
   "id": "fd0d9850-ba30-462b-bc2e-8c1a7bff46c8",
   "metadata": {
    "tags": []
   },
   "outputs": [],
   "source": [
    "filtered_tokens = [token for token in word_tokens if token.lower() not in stop_words] #list comprehension"
   ]
  },
  {
   "cell_type": "code",
   "execution_count": 30,
   "id": "09431a94-68a6-4110-abc7-9f9eb78b5058",
   "metadata": {
    "tags": []
   },
   "outputs": [
    {
     "data": {
      "text/plain": [
       "True"
      ]
     },
     "execution_count": 30,
     "metadata": {},
     "output_type": "execute_result"
    }
   ],
   "source": [
    "filtered_tokens_2 == filtered_tokens"
   ]
  },
  {
   "cell_type": "code",
   "execution_count": 51,
   "id": "173157ca-a248-44ab-aa28-e3be23e6ebe2",
   "metadata": {
    "tags": []
   },
   "outputs": [
    {
     "ename": "AssertionError",
     "evalue": "not the same",
     "output_type": "error",
     "traceback": [
      "\u001b[0;31m---------------------------------------------------------------------------\u001b[0m",
      "\u001b[0;31mAssertionError\u001b[0m                            Traceback (most recent call last)",
      "Cell \u001b[0;32mIn[51], line 1\u001b[0m\n\u001b[0;32m----> 1\u001b[0m \u001b[38;5;28;01massert\u001b[39;00m filtered_tokens_4 \u001b[38;5;241m==\u001b[39m filtered_tokens, \u001b[38;5;124m\"\u001b[39m\u001b[38;5;124mnot the same\u001b[39m\u001b[38;5;124m\"\u001b[39m\n",
      "\u001b[0;31mAssertionError\u001b[0m: not the same"
     ]
    }
   ],
   "source": [
    "assert filtered_tokens_4 == filtered_tokens, \"not the same\""
   ]
  },
  {
   "cell_type": "code",
   "execution_count": 52,
   "id": "5ce44aaa-80a1-4954-a306-2a90bbb8beae",
   "metadata": {
    "tags": []
   },
   "outputs": [
    {
     "name": "stdout",
     "output_type": "stream",
     "text": [
      "Original tokens:\n",
      "['Tokenization', 'is', 'an', 'essential', 'step', 'in', 'NLP', '.', 'It', 'helps', 'in', 'breaking', 'down', 'text', 'into', 'smaller', 'units', '.']\n",
      "\n",
      "Filtered tokens (stopwords removed):\n",
      "['Tokenization', 'essential', 'step', 'NLP', '.', 'helps', 'breaking', 'text', 'smaller', 'units', '.']\n"
     ]
    }
   ],
   "source": [
    "print(\"Original tokens:\")\n",
    "print(word_tokens)\n",
    "print(\"\\nFiltered tokens (stopwords removed):\")\n",
    "print(filtered_tokens)"
   ]
  },
  {
   "cell_type": "markdown",
   "id": "c7935b3e-3916-4d0f-adee-7f3467df2d04",
   "metadata": {},
   "source": [
    "## 5. Stemming and Lemmatization\n",
    "\n",
    "Stemming and Lemmatization are techniques used to reduce words to their base or root form. Stemming cuts off the prefixes and/or suffixes of words, while lemmatization reduces words to their base form using a lexical knowledge base."
   ]
  },
  {
   "cell_type": "code",
   "execution_count": 61,
   "id": "fdef22f8-e026-42db-bd47-2fd55a864c32",
   "metadata": {
    "tags": []
   },
   "outputs": [
    {
     "name": "stdout",
     "output_type": "stream",
     "text": [
      "Original word: lemmatized\n",
      "Stemmed word: lemmat\n",
      "Lemmatized word: lemmatized\n"
     ]
    },
    {
     "name": "stderr",
     "output_type": "stream",
     "text": [
      "[nltk_data] Downloading package wordnet to /home/jovyan/nltk_data...\n",
      "[nltk_data]   Package wordnet is already up-to-date!\n"
     ]
    }
   ],
   "source": [
    "from nltk.stem import PorterStemmer, WordNetLemmatizer\n",
    "\n",
    "nltk.download('wordnet')\n",
    "stemmer = PorterStemmer()\n",
    "lemmatizer = WordNetLemmatizer()\n",
    "\n",
    "word = 'lemmatized'\n",
    "\n",
    "stemmed_word = stemmer.stem(word)\n",
    "lemmatized_word = lemmatizer.lemmatize(word)\n",
    "\n",
    "print(f\"Original word: {word}\")\n",
    "print(f\"Stemmed word: {stemmed_word}\")\n",
    "print(f\"Lemmatized word: {lemmatized_word}\")"
   ]
  },
  {
   "cell_type": "markdown",
   "id": "9053f52b-ed40-449d-8bbe-499037d6a6b0",
   "metadata": {},
   "source": [
    "## 6. Text Feature Extraction (Bag of Words, TF-IDF)\n",
    "\n",
    "Text feature extraction is the process of transforming text data into a structured format that can be used as input for machine learning algorithms. Bag of Words and TF-IDF (Term Frequency-Inverse Document Frequency) are two popular methods for text feature extraction."
   ]
  },
  {
   "cell_type": "markdown",
   "id": "f2cde275-199e-4ff1-97a5-420d798ef1d0",
   "metadata": {},
   "source": [
    "### 6.1 Bag of Words"
   ]
  },
  {
   "cell_type": "code",
   "execution_count": 67,
   "id": "e426f909-2024-48d0-9aa1-14382196ce1d",
   "metadata": {
    "tags": []
   },
   "outputs": [],
   "source": [
    "import pandas as pd\n",
    "from sklearn.feature_extraction.text import CountVectorizer, TfidfVectorizer\n",
    "\n",
    "corpus = [\n",
    "    'This is the first document but not the second or the last.',\n",
    "    'This document is the second document.',\n",
    "    'And this is the third one.',\n",
    "    'Is this the first document?'\n",
    "]\n",
    "\n",
    "vectorizer = CountVectorizer()\n",
    "X = vectorizer.fit_transform(corpus)"
   ]
  },
  {
   "cell_type": "code",
   "execution_count": 66,
   "id": "9fef3272-55db-477f-bc67-e6b2ecc7dc79",
   "metadata": {
    "tags": []
   },
   "outputs": [
    {
     "name": "stdout",
     "output_type": "stream",
     "text": [
      "Bag of Words:\n"
     ]
    },
    {
     "data": {
      "text/html": [
       "<div>\n",
       "<style scoped>\n",
       "    .dataframe tbody tr th:only-of-type {\n",
       "        vertical-align: middle;\n",
       "    }\n",
       "\n",
       "    .dataframe tbody tr th {\n",
       "        vertical-align: top;\n",
       "    }\n",
       "\n",
       "    .dataframe thead th {\n",
       "        text-align: right;\n",
       "    }\n",
       "</style>\n",
       "<table border=\"1\" class=\"dataframe\">\n",
       "  <thead>\n",
       "    <tr style=\"text-align: right;\">\n",
       "      <th></th>\n",
       "      <th>and</th>\n",
       "      <th>document</th>\n",
       "      <th>first</th>\n",
       "      <th>is</th>\n",
       "      <th>one</th>\n",
       "      <th>second</th>\n",
       "      <th>the</th>\n",
       "      <th>third</th>\n",
       "      <th>this</th>\n",
       "    </tr>\n",
       "  </thead>\n",
       "  <tbody>\n",
       "    <tr>\n",
       "      <th>0</th>\n",
       "      <td>0</td>\n",
       "      <td>1</td>\n",
       "      <td>1</td>\n",
       "      <td>1</td>\n",
       "      <td>0</td>\n",
       "      <td>0</td>\n",
       "      <td>1</td>\n",
       "      <td>0</td>\n",
       "      <td>1</td>\n",
       "    </tr>\n",
       "    <tr>\n",
       "      <th>1</th>\n",
       "      <td>0</td>\n",
       "      <td>2</td>\n",
       "      <td>0</td>\n",
       "      <td>1</td>\n",
       "      <td>0</td>\n",
       "      <td>1</td>\n",
       "      <td>1</td>\n",
       "      <td>0</td>\n",
       "      <td>1</td>\n",
       "    </tr>\n",
       "    <tr>\n",
       "      <th>2</th>\n",
       "      <td>1</td>\n",
       "      <td>0</td>\n",
       "      <td>0</td>\n",
       "      <td>1</td>\n",
       "      <td>1</td>\n",
       "      <td>0</td>\n",
       "      <td>1</td>\n",
       "      <td>1</td>\n",
       "      <td>1</td>\n",
       "    </tr>\n",
       "    <tr>\n",
       "      <th>3</th>\n",
       "      <td>0</td>\n",
       "      <td>1</td>\n",
       "      <td>1</td>\n",
       "      <td>1</td>\n",
       "      <td>0</td>\n",
       "      <td>0</td>\n",
       "      <td>1</td>\n",
       "      <td>0</td>\n",
       "      <td>1</td>\n",
       "    </tr>\n",
       "  </tbody>\n",
       "</table>\n",
       "</div>"
      ],
      "text/plain": [
       "   and  document  first  is  one  second  the  third  this\n",
       "0    0         1      1   1    0       0    1      0     1\n",
       "1    0         2      0   1    0       1    1      0     1\n",
       "2    1         0      0   1    1       0    1      1     1\n",
       "3    0         1      1   1    0       0    1      0     1"
      ]
     },
     "execution_count": 66,
     "metadata": {},
     "output_type": "execute_result"
    }
   ],
   "source": [
    "bow = pd.DataFrame(X.toarray(), columns=vectorizer.get_feature_names_out())\n",
    "\n",
    "print(\"Bag of Words:\")\n",
    "bow"
   ]
  },
  {
   "cell_type": "code",
   "execution_count": 68,
   "id": "99810b07-ad4b-4743-989d-5053ab46b5cd",
   "metadata": {
    "tags": []
   },
   "outputs": [
    {
     "name": "stdout",
     "output_type": "stream",
     "text": [
      "Bag of Words:\n"
     ]
    },
    {
     "data": {
      "text/html": [
       "<div>\n",
       "<style scoped>\n",
       "    .dataframe tbody tr th:only-of-type {\n",
       "        vertical-align: middle;\n",
       "    }\n",
       "\n",
       "    .dataframe tbody tr th {\n",
       "        vertical-align: top;\n",
       "    }\n",
       "\n",
       "    .dataframe thead th {\n",
       "        text-align: right;\n",
       "    }\n",
       "</style>\n",
       "<table border=\"1\" class=\"dataframe\">\n",
       "  <thead>\n",
       "    <tr style=\"text-align: right;\">\n",
       "      <th></th>\n",
       "      <th>and</th>\n",
       "      <th>but</th>\n",
       "      <th>document</th>\n",
       "      <th>first</th>\n",
       "      <th>is</th>\n",
       "      <th>last</th>\n",
       "      <th>not</th>\n",
       "      <th>one</th>\n",
       "      <th>or</th>\n",
       "      <th>second</th>\n",
       "      <th>the</th>\n",
       "      <th>third</th>\n",
       "      <th>this</th>\n",
       "    </tr>\n",
       "  </thead>\n",
       "  <tbody>\n",
       "    <tr>\n",
       "      <th>0</th>\n",
       "      <td>0</td>\n",
       "      <td>1</td>\n",
       "      <td>1</td>\n",
       "      <td>1</td>\n",
       "      <td>1</td>\n",
       "      <td>1</td>\n",
       "      <td>1</td>\n",
       "      <td>0</td>\n",
       "      <td>1</td>\n",
       "      <td>1</td>\n",
       "      <td>3</td>\n",
       "      <td>0</td>\n",
       "      <td>1</td>\n",
       "    </tr>\n",
       "    <tr>\n",
       "      <th>1</th>\n",
       "      <td>0</td>\n",
       "      <td>0</td>\n",
       "      <td>2</td>\n",
       "      <td>0</td>\n",
       "      <td>1</td>\n",
       "      <td>0</td>\n",
       "      <td>0</td>\n",
       "      <td>0</td>\n",
       "      <td>0</td>\n",
       "      <td>1</td>\n",
       "      <td>1</td>\n",
       "      <td>0</td>\n",
       "      <td>1</td>\n",
       "    </tr>\n",
       "    <tr>\n",
       "      <th>2</th>\n",
       "      <td>1</td>\n",
       "      <td>0</td>\n",
       "      <td>0</td>\n",
       "      <td>0</td>\n",
       "      <td>1</td>\n",
       "      <td>0</td>\n",
       "      <td>0</td>\n",
       "      <td>1</td>\n",
       "      <td>0</td>\n",
       "      <td>0</td>\n",
       "      <td>1</td>\n",
       "      <td>1</td>\n",
       "      <td>1</td>\n",
       "    </tr>\n",
       "    <tr>\n",
       "      <th>3</th>\n",
       "      <td>0</td>\n",
       "      <td>0</td>\n",
       "      <td>1</td>\n",
       "      <td>1</td>\n",
       "      <td>1</td>\n",
       "      <td>0</td>\n",
       "      <td>0</td>\n",
       "      <td>0</td>\n",
       "      <td>0</td>\n",
       "      <td>0</td>\n",
       "      <td>1</td>\n",
       "      <td>0</td>\n",
       "      <td>1</td>\n",
       "    </tr>\n",
       "  </tbody>\n",
       "</table>\n",
       "</div>"
      ],
      "text/plain": [
       "   and  but  document  first  is  last  not  one  or  second  the  third  this\n",
       "0    0    1         1      1   1     1    1    0   1       1    3      0     1\n",
       "1    0    0         2      0   1     0    0    0   0       1    1      0     1\n",
       "2    1    0         0      0   1     0    0    1   0       0    1      1     1\n",
       "3    0    0         1      1   1     0    0    0   0       0    1      0     1"
      ]
     },
     "execution_count": 68,
     "metadata": {},
     "output_type": "execute_result"
    }
   ],
   "source": [
    "bow = pd.DataFrame(X.toarray(), columns=vectorizer.get_feature_names_out())\n",
    "\n",
    "print(\"Bag of Words:\")\n",
    "bow"
   ]
  },
  {
   "cell_type": "markdown",
   "id": "0daa9ffe-9879-42e3-8266-87446cb49192",
   "metadata": {},
   "source": [
    "### 6.2 IF-IDF"
   ]
  },
  {
   "cell_type": "code",
   "execution_count": 71,
   "id": "266f6171-6930-4911-ad31-e2fb83ad9e00",
   "metadata": {
    "tags": []
   },
   "outputs": [],
   "source": [
    "corpus = [\n",
    "    'This is document but not the second or last.',\n",
    "    'This document is the second document.',\n",
    "    'And this is the third one.',\n",
    "    'Is this the first document?'\n",
    "]"
   ]
  },
  {
   "cell_type": "code",
   "execution_count": 72,
   "id": "7803f645-4167-4e4e-b40b-1f90b4ea39b9",
   "metadata": {
    "tags": []
   },
   "outputs": [
    {
     "name": "stdout",
     "output_type": "stream",
     "text": [
      "TF-IDF:\n"
     ]
    },
    {
     "data": {
      "text/html": [
       "<div>\n",
       "<style scoped>\n",
       "    .dataframe tbody tr th:only-of-type {\n",
       "        vertical-align: middle;\n",
       "    }\n",
       "\n",
       "    .dataframe tbody tr th {\n",
       "        vertical-align: top;\n",
       "    }\n",
       "\n",
       "    .dataframe thead th {\n",
       "        text-align: right;\n",
       "    }\n",
       "</style>\n",
       "<table border=\"1\" class=\"dataframe\">\n",
       "  <thead>\n",
       "    <tr style=\"text-align: right;\">\n",
       "      <th></th>\n",
       "      <th>and</th>\n",
       "      <th>but</th>\n",
       "      <th>document</th>\n",
       "      <th>first</th>\n",
       "      <th>is</th>\n",
       "      <th>last</th>\n",
       "      <th>not</th>\n",
       "      <th>one</th>\n",
       "      <th>or</th>\n",
       "      <th>second</th>\n",
       "      <th>the</th>\n",
       "      <th>third</th>\n",
       "      <th>this</th>\n",
       "    </tr>\n",
       "  </thead>\n",
       "  <tbody>\n",
       "    <tr>\n",
       "      <th>0</th>\n",
       "      <td>0.000000</td>\n",
       "      <td>0.413592</td>\n",
       "      <td>0.263990</td>\n",
       "      <td>0.000000</td>\n",
       "      <td>0.215829</td>\n",
       "      <td>0.413592</td>\n",
       "      <td>0.413592</td>\n",
       "      <td>0.000000</td>\n",
       "      <td>0.413592</td>\n",
       "      <td>0.326081</td>\n",
       "      <td>0.215829</td>\n",
       "      <td>0.000000</td>\n",
       "      <td>0.215829</td>\n",
       "    </tr>\n",
       "    <tr>\n",
       "      <th>1</th>\n",
       "      <td>0.000000</td>\n",
       "      <td>0.000000</td>\n",
       "      <td>0.728794</td>\n",
       "      <td>0.000000</td>\n",
       "      <td>0.297919</td>\n",
       "      <td>0.000000</td>\n",
       "      <td>0.000000</td>\n",
       "      <td>0.000000</td>\n",
       "      <td>0.000000</td>\n",
       "      <td>0.450103</td>\n",
       "      <td>0.297919</td>\n",
       "      <td>0.000000</td>\n",
       "      <td>0.297919</td>\n",
       "    </tr>\n",
       "    <tr>\n",
       "      <th>2</th>\n",
       "      <td>0.511849</td>\n",
       "      <td>0.000000</td>\n",
       "      <td>0.000000</td>\n",
       "      <td>0.000000</td>\n",
       "      <td>0.267104</td>\n",
       "      <td>0.000000</td>\n",
       "      <td>0.000000</td>\n",
       "      <td>0.511849</td>\n",
       "      <td>0.000000</td>\n",
       "      <td>0.000000</td>\n",
       "      <td>0.267104</td>\n",
       "      <td>0.511849</td>\n",
       "      <td>0.267104</td>\n",
       "    </tr>\n",
       "    <tr>\n",
       "      <th>3</th>\n",
       "      <td>0.000000</td>\n",
       "      <td>0.000000</td>\n",
       "      <td>0.427970</td>\n",
       "      <td>0.670497</td>\n",
       "      <td>0.349893</td>\n",
       "      <td>0.000000</td>\n",
       "      <td>0.000000</td>\n",
       "      <td>0.000000</td>\n",
       "      <td>0.000000</td>\n",
       "      <td>0.000000</td>\n",
       "      <td>0.349893</td>\n",
       "      <td>0.000000</td>\n",
       "      <td>0.349893</td>\n",
       "    </tr>\n",
       "  </tbody>\n",
       "</table>\n",
       "</div>"
      ],
      "text/plain": [
       "        and       but  document     first        is      last       not  \\\n",
       "0  0.000000  0.413592  0.263990  0.000000  0.215829  0.413592  0.413592   \n",
       "1  0.000000  0.000000  0.728794  0.000000  0.297919  0.000000  0.000000   \n",
       "2  0.511849  0.000000  0.000000  0.000000  0.267104  0.000000  0.000000   \n",
       "3  0.000000  0.000000  0.427970  0.670497  0.349893  0.000000  0.000000   \n",
       "\n",
       "        one        or    second       the     third      this  \n",
       "0  0.000000  0.413592  0.326081  0.215829  0.000000  0.215829  \n",
       "1  0.000000  0.000000  0.450103  0.297919  0.000000  0.297919  \n",
       "2  0.511849  0.000000  0.000000  0.267104  0.511849  0.267104  \n",
       "3  0.000000  0.000000  0.000000  0.349893  0.000000  0.349893  "
      ]
     },
     "execution_count": 72,
     "metadata": {},
     "output_type": "execute_result"
    }
   ],
   "source": [
    "vectorizer = TfidfVectorizer()\n",
    "X = vectorizer.fit_transform(corpus)\n",
    "tfidf = pd.DataFrame(X.toarray(), columns=vectorizer.get_feature_names_out())\n",
    "\n",
    "print(\"TF-IDF:\")\n",
    "tfidf"
   ]
  },
  {
   "cell_type": "markdown",
   "id": "82679b8c-d871-4dc6-8930-92ab704a44a1",
   "metadata": {},
   "source": [
    "### 6.3 Comparison\n",
    "\n",
    "#### Bag of Words (BoW) Representation:\n",
    "- BoW is a simple method that represents text data as a \"bag\" or unordered set of words, disregarding grammar and word order but keeping track of the frequency of each word.\n",
    "- In the BoW model, each document is represented as a vector in a high-dimensional space, with each dimension corresponding to a unique word from the entire corpus.\n",
    "\n",
    "Advantages of BoW:\n",
    "1. Easy to understand and implement.\n",
    "2. Works well for simple text classification and sentiment analysis tasks when word order and context are less important.\n",
    "\n",
    "Disadvantages of BoW:\n",
    "1. Ignores word order and context, which can be crucial for understanding the meaning of a text.\n",
    "2. Results in a sparse matrix due to the high dimensionality of the feature space, which can lead to increased memory and computational requirements.\n",
    "3. Gives equal importance to all words, even common words that don't contribute much to the meaning of a document.\n",
    "\n",
    "#### TF-IDF (Term Frequency-Inverse Document Frequency) Representation:\n",
    "- TF-IDF is an improvement over the BoW model that assigns weights to words based on their importance within a document and across the entire corpus.\n",
    "- It takes into account not only the frequency of words in a document (Term Frequency) but also their rarity across the entire corpus (Inverse Document Frequency).\n",
    "\n",
    "Advantages of TF-IDF:\n",
    "1. Considers the importance of words, giving more weight to rare words and less weight to common words, thus helping to identify distinguishing features in a document.\n",
    "2. Can lead to better performance in text classification and information retrieval tasks compared to BoW, especially when the word order is not critical.\n",
    "\n",
    "Disadvantages of TF-IDF:\n",
    "1. More complex to understand and implement compared to BoW.\n",
    "2. Still results in a sparse matrix with high dimensionality, similar to BoW.\n",
    "3. Like BoW, it ignores word order and context, which can limit its effectiveness in some NLP tasks.\n",
    "\n",
    "In summary, both BoW and TF-IDF have their strengths and weaknesses. BoW is a simpler approach that works well for basic text analysis tasks, while TF-IDF provides a more refined representation by considering the importance of words within documents and across the corpus. However, both methods disregard word order and context, which can be limiting factors in certain NLP tasks."
   ]
  },
  {
   "cell_type": "markdown",
   "id": "d56d1b36-af65-4120-ba18-cd2483890dbb",
   "metadata": {},
   "source": [
    "## 7. Exercises\n",
    "\n",
    "**Exercise 1:** Given a text string, preprocess the text by performing the following tasks:\n",
    "\n",
    "1. Tokenize the text into words. `word_tokenize()`\n",
    "2. Convert all words to lowercase. `.lower()`\n",
    "3. Remove stopwords.\n",
    "4. Perform stemming on the remaining words."
   ]
  },
  {
   "cell_type": "markdown",
   "id": "9d2b206e-dc83-45a6-8423-e67b4881c160",
   "metadata": {},
   "source": [
    "**Exercise 2:** Using a corpus of your choice, create a Bag of Words representation and a TF-IDF representation. Compare the two representations and discuss the advantages and disadvantages of each method."
   ]
  }
 ],
 "metadata": {
  "kernelspec": {
   "display_name": "Python 3 (ipykernel)",
   "language": "python",
   "name": "python3"
  },
  "language_info": {
   "codemirror_mode": {
    "name": "ipython",
    "version": 3
   },
   "file_extension": ".py",
   "mimetype": "text/x-python",
   "name": "python",
   "nbconvert_exporter": "python",
   "pygments_lexer": "ipython3",
   "version": "3.10.9"
  }
 },
 "nbformat": 4,
 "nbformat_minor": 5
}
