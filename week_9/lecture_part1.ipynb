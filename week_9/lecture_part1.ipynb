{
 "cells": [
  {
   "cell_type": "markdown",
   "id": "60d37fee-04fb-49e0-a43b-9032a72c8354",
   "metadata": {},
   "source": [
    "# Introduction to Network Analysis and Visualizing Network Graphs\n",
    "\n",
    "In this class, we will learn the basic concepts of network analysis, how to analyze pre-collected network data and how to visualize network graphs using Python. "
   ]
  },
  {
   "cell_type": "markdown",
   "id": "ee2833c6-d2af-44f8-9fec-736551b6f3b4",
   "metadata": {},
   "source": [
    "## 1. Understanding Networks and Their Importance in Communication Research\n",
    "\n",
    "A network is a set of items, which we call nodes (or vertices), with connections between them, known as edges (or links). For example, a group of friends can be considered a network where individuals are nodes and friendships are edges.\n",
    "\n",
    "In a communication network, nodes could be individuals, organizations, or even websites, and edges can represent communication between them, such as emails, phone calls, mentions, hyperlinks, etc.\n",
    "\n",
    "Network Analysis allows us to analyze these nodes and edges to uncover the underlying structures and patterns. This approach is widely used in various fields, including communication research.\n",
    "\n",
    "For example, consider a communication research question such as \"Who are the most influential users on Twitter during a major event?\" or \"What are the key themes emerging from the communication between users?\" Network analysis can provide answers to these questions. \n",
    "\n",
    "Now, let's visually understand the basic elements of a network using a simulated data."
   ]
  },
  {
   "cell_type": "code",
   "execution_count": null,
   "id": "65d5a105-ee41-4bb6-bcee-159e3f0af5ea",
   "metadata": {
    "tags": []
   },
   "outputs": [],
   "source": [
    "!pip install networkx"
   ]
  },
  {
   "cell_type": "code",
   "execution_count": null,
   "id": "bcd68011-7941-4b6e-a65b-e8f78917384c",
   "metadata": {
    "tags": []
   },
   "outputs": [],
   "source": [
    "# Import necessary libraries\n",
    "import networkx as nx\n",
    "import matplotlib.pyplot as plt\n",
    "\n",
    "# Define nodes and edges\n",
    "nodes = [\"Alice\", \"Bob\", \"Charles\", \"Diana\"]\n",
    "edges = [(\"Alice\", \"Bob\"), (\"Alice\", \"Charles\"), (\"Bob\", \"Charles\"), (\"Bob\", \"Diana\")]\n",
    "\n",
    "# Create a graph\n",
    "G = nx.Graph()\n",
    "\n",
    "# Add nodes and edges to the graph\n",
    "G.add_nodes_from(nodes)\n",
    "G.add_edges_from(edges)\n",
    "\n",
    "# Draw the graph\n",
    "nx.draw(G, with_labels=True, font_weight='bold')\n",
    "plt.show()"
   ]
  },
  {
   "cell_type": "markdown",
   "id": "271157b1-c03d-4e0d-83df-8fd061550eb4",
   "metadata": {},
   "source": [
    "## 2. Analyzing Network Data\n",
    "\n",
    "Network data typically involves pairs of nodes that represent a relationship or interaction. These pairs can be represented in various data structures such as edge lists, adjacency lists, adjacency matrices, and more complex structures like graph objects in NetworkX.\n",
    "\n",
    "### 2.1 Edge Lists\n",
    "An edge list is a simple way to represent a network. It is essentially a list of node pairs (edges) that are connected in the network. Each pair represents a unique relationship.\n",
    "\n",
    "### 2.2 Adjacency Lists\n",
    "An adjacency list associates each node with a list of nodes to which it is directly connected. It's useful for networks where information about neighbors of each node is more relevant than overall connections.\n",
    "\n",
    "### 2.3 Adjacency Matrices\n",
    "In an adjacency matrix, both the rows and columns correspond to nodes in the network, and each cell represents a possible edge. It is especially useful for identifying the presence or absence of edges between pairs of nodes.\n",
    "\n",
    "Let's simulate these data structures."
   ]
  },
  {
   "cell_type": "code",
   "execution_count": null,
   "id": "8eb2af6f-91dd-4e24-b676-7539c31e9738",
   "metadata": {
    "tags": []
   },
   "outputs": [],
   "source": [
    "# Simulated edge list\n",
    "edge_list = [(\"Alice\", \"Bob\"), (\"Alice\", \"Charles\"), (\"Bob\", \"Charles\"), (\"Bob\", \"Diana\")]\n",
    "\n",
    "# Simulated adjacency list\n",
    "adjacency_list = {\"Alice\": [\"Bob\", \"Charles\"], \"Bob\": [\"Alice\", \"Charles\", \"Diana\"], \"Charles\": [\"Alice\", \"Bob\"], \"Diana\": [\"Bob\"]}\n",
    "\n",
    "# Simulated adjacency matrix\n",
    "adjacency_matrix = nx.adjacency_matrix(G).todense()\n",
    "\n",
    "print(\"Edge List:\", edge_list)\n",
    "print(\"\\nAdjacency List:\", adjacency_list)\n",
    "print(\"\\nAdjacency Matrix:\\n\", adjacency_matrix)"
   ]
  },
  {
   "cell_type": "markdown",
   "id": "1ffcd0f4-61b6-41eb-99d1-4ccb7e1dd097",
   "metadata": {},
   "source": [
    "### 2.4 Simulated Twitter Dataset\n",
    "\n",
    "Let's create a Twitter dataset that represents the relationship of retweets between different users.\n",
    "\n",
    "In a Twitter network, the nodes can be the users, and the edges can be the interactions between them. For simplicity, let's consider only one type of interaction - retweets."
   ]
  },
  {
   "cell_type": "code",
   "execution_count": null,
   "id": "e8571efe-4122-4f5f-ae47-0605291f483e",
   "metadata": {
    "tags": []
   },
   "outputs": [],
   "source": [
    "import pandas as pd\n",
    "import numpy as np\n",
    "\n",
    "# Simulate the dataset\n",
    "np.random.seed(0)  # for reproducibility\n",
    "n_users = 100\n",
    "n_tweets = 500\n",
    "\n",
    "users = [f'user_{i}' for i in range(1, n_users+1)]\n",
    "tweet_user = np.random.choice(users, n_tweets)  # randomly assign a user to each tweet\n",
    "retweet_user = np.random.choice(users, n_tweets)  # randomly assign a retweeting user to each tweet\n",
    "\n",
    "twitter_data = pd.DataFrame({\n",
    "    'tweet_id': range(1, n_tweets+1),\n",
    "    'tweet_user': tweet_user,\n",
    "    'retweet_user': retweet_user\n",
    "})\n",
    "\n",
    "print(twitter_data.head())"
   ]
  },
  {
   "cell_type": "markdown",
   "id": "d54a7e9c-930f-48ed-8223-e04bbbe49db7",
   "metadata": {},
   "source": [
    "In this simulated dataset, each row represents a tweet, which includes the ID of the tweet, the user who made the original tweet, and the user who retweeted the tweet."
   ]
  },
  {
   "cell_type": "code",
   "execution_count": null,
   "id": "66cec8a8-0a7b-4a24-92de-30af6f640a0b",
   "metadata": {
    "tags": []
   },
   "outputs": [],
   "source": [
    "# create a directed graph from the dataframe\n",
    "G = nx.from_pandas_edgelist(twitter_data, \"tweet_user\", \"retweet_user\", create_using=nx.Graph())\n",
    "\n",
    "# Calculate basic properties\n",
    "print(\"Number of nodes:\", G.number_of_nodes())\n",
    "print(\"Number of edges:\", G.number_of_edges())"
   ]
  },
  {
   "cell_type": "code",
   "execution_count": null,
   "id": "cf693840-bdae-4f2e-b5c8-7ccba9934fd0",
   "metadata": {
    "tags": []
   },
   "outputs": [],
   "source": [
    "# Draw the graph\n",
    "pos = nx.spring_layout(G, scale=5)  # double distance between all nodes\n",
    "nx.draw(G, pos, with_labels=False, font_weight='normal')\n",
    "plt.show()"
   ]
  },
  {
   "cell_type": "markdown",
   "id": "e99ee2eb-9bb5-4e91-8af2-e80768ef18a9",
   "metadata": {},
   "source": [
    "## 3. Network Measures and their significance in Communication Research\n",
    "\n",
    "1. Degree: The degree of a node is the number of other nodes to which it is connected. In communication research, this could mean the number of different users a particular user interacts with.\n",
    "\n",
    "2. Centrality: Centrality measures indicate the most important vertices within a graph. Importance is calculated based on the connection to other nodes. In a communication network, users with high centrality might be influencers or thought leaders.\n",
    "\n",
    "3. Clustering Coefficient: The clustering coefficient measures the degree to which nodes in a graph tend to cluster together. In communication networks, a high clustering coefficient might indicate a tight-knit community with lots of mutual communication.\n",
    "\n",
    "In the next section, we'll compute these measures on our Twitter network."
   ]
  },
  {
   "cell_type": "markdown",
   "id": "e605f3d1-69ad-4bd0-8c02-2bb6855a2f6d",
   "metadata": {
    "tags": []
   },
   "source": [
    "### 3.2 Degree\n",
    "\n",
    "The degree of a node in a network is the number of connections or edges the node has to other nodes. It's one of the simplest and most fundamental concepts in network analysis and is incredibly important in a wide variety of contexts.\n",
    "\n",
    "In communication research, the degree of a node might represent the number of connections a person has in a social network, the number of mentions a user has on Twitter, or the number of incoming links a web page has in a hyperlink network.\n",
    "\n",
    "#### NetworkX Function for Degree\n",
    "\n",
    "We can use NetworkX to easily get the degree of nodes in a network. Here's an example:"
   ]
  },
  {
   "cell_type": "code",
   "execution_count": null,
   "id": "b27b6274-c0cd-4f07-8950-538730f08e65",
   "metadata": {
    "tags": []
   },
   "outputs": [],
   "source": [
    "degree_dict = dict(G.degree(G.nodes()))\n",
    "nx.set_node_attributes(G, degree_dict, 'degree')"
   ]
  },
  {
   "cell_type": "markdown",
   "id": "6b0608b7-3cfc-4bc0-b013-07ff707ee5d9",
   "metadata": {},
   "source": [
    "Here, `G.degree(G.nodes())` returns a DegreeView object that we convert to a dictionary. Then we use `nx.set_node_attributes()` to assign each node's degree as a node attribute."
   ]
  },
  {
   "cell_type": "markdown",
   "id": "81451aff-25f7-4b19-bcd3-b8169546d070",
   "metadata": {},
   "source": [
    "#### Visualizing Degree\n",
    "\n",
    "When visualizing a network, nodes with a higher degree can be displayed with a larger size or a different color."
   ]
  },
  {
   "cell_type": "code",
   "execution_count": null,
   "id": "1d61fd69-c541-4f6d-89b2-067327fdd9cd",
   "metadata": {
    "tags": []
   },
   "outputs": [],
   "source": [
    "plt.figure(figsize=(10,10))\n",
    "pos = nx.spring_layout(G)\n",
    "nx.draw(G, pos, node_size=[v * 100 for v in degree_dict.values()], with_labels=True)\n",
    "plt.show()"
   ]
  },
  {
   "cell_type": "markdown",
   "id": "49f9f4e7-9ab7-4fc9-9e0c-e11096075cee",
   "metadata": {},
   "source": [
    "### 3.2 Centrality\n",
    "\n",
    "Centrality measures identify the most important nodes in a network. There are many different ways of defining \"importance\" and accordingly many different centrality measures.\n",
    "\n",
    "In communication research, centrality could be used to identify key influencers in a social network, or major hubs in a transportation network.\n",
    "\n",
    "#### NetworkX Functions for Centrality\n",
    "\n",
    "NetworkX has functions to compute several centrality measures, including degree centrality (`nx.degree_centrality()`), closeness centrality (`nx.closeness_centrality()`), and betweenness centrality (`nx.betweenness_centrality()`).\n",
    "\n",
    "Here's an example of how to compute degree centrality:"
   ]
  },
  {
   "cell_type": "code",
   "execution_count": null,
   "id": "a7125023-d940-4c7b-9df8-1c21677ae636",
   "metadata": {
    "tags": []
   },
   "outputs": [],
   "source": [
    "centrality_dict = nx.degree_centrality(G)\n",
    "nx.set_node_attributes(G, centrality_dict, 'centrality')"
   ]
  },
  {
   "cell_type": "markdown",
   "id": "bf2b1043-4eac-4996-9013-853fdfadb3d2",
   "metadata": {},
   "source": [
    "In the code above, `nx.degree_centrality(G)` returns a dictionary where the keys are the nodes and the values are their corresponding centrality."
   ]
  },
  {
   "cell_type": "markdown",
   "id": "4b2b29b1-d35d-4802-95e9-c8fdfbdcdad4",
   "metadata": {},
   "source": [
    "#### Visualizing Centrality\n",
    "\n",
    "When visualizing centrality in a network, nodes with higher centrality can be displayed with a larger size or a different color. Here's an example:"
   ]
  },
  {
   "cell_type": "code",
   "execution_count": null,
   "id": "52d79e28-cdb9-48d8-b020-1a6f372df953",
   "metadata": {
    "tags": []
   },
   "outputs": [],
   "source": [
    "plt.figure(figsize=(10,10))\n",
    "node_size = [v * 10000 for v in centrality_dict.values()]\n",
    "nx.draw(G, pos, node_size=node_size, with_labels=True)\n",
    "plt.show()\n"
   ]
  },
  {
   "cell_type": "markdown",
   "id": "ca97c1f0-a185-4126-af01-66e3989f4bd8",
   "metadata": {},
   "source": [
    "### 3.3 Clustering Coefficient\n",
    "\n",
    "The clustering coefficient of a node in a network measures how close its neighbors are to being a clique (complete graph). It gives an indication of the \"cliquishness\" of the network.\n",
    "\n",
    "In communication research, a high average clustering coefficient might indicate a tight-knit community where everyone knows everyone else.\n",
    "\n",
    "#### NetworkX Function for Clustering Coefficient\n",
    "\n",
    "NetworkX has a function to compute the clustering coefficient for all nodes in a network, `nx.clustering()`. Here's an example:"
   ]
  },
  {
   "cell_type": "code",
   "execution_count": null,
   "id": "26b12506-6abe-496a-965a-7e84d8718823",
   "metadata": {
    "tags": []
   },
   "outputs": [],
   "source": [
    "clustering_dict = nx.clustering(G)\n",
    "nx.set_node_attributes(G, clustering_dict, 'clustering')"
   ]
  },
  {
   "cell_type": "markdown",
   "id": "46fab354-7659-466a-afa9-3b02e124e928",
   "metadata": {},
   "source": [
    "In the code above, `nx.clustering(G)` returns a dictionary where the keys are the nodes and the values are their corresponding clustering coefficient."
   ]
  },
  {
   "cell_type": "markdown",
   "id": "2a018643-1c26-4afc-9eb3-21065a7cd42d",
   "metadata": {},
   "source": [
    "#### Visualizing Clustering Coefficient\n",
    "\n",
    "When visualizing a network, nodes with a higher clustering coefficient can be displayed with a larger size or a different color."
   ]
  },
  {
   "cell_type": "code",
   "execution_count": null,
   "id": "6a3f0bae-b00e-499d-8479-1b2fb8e4c2b2",
   "metadata": {
    "tags": []
   },
   "outputs": [],
   "source": [
    "plt.figure(figsize=(10,10))\n",
    "node_size = [v * 1000 for v in clustering_dict.values()]\n",
    "nx.draw(G, pos, node_size=node_size, with_labels=True)\n",
    "plt.show()"
   ]
  },
  {
   "cell_type": "markdown",
   "id": "7cf20304-225d-4cb1-b788-a3a399b5700f",
   "metadata": {},
   "source": [
    "In the above code, we are visualizing the nodes with a size proportional to their clustering coefficient. Nodes with a higher clustering coefficient will appear larger."
   ]
  },
  {
   "cell_type": "markdown",
   "id": "6203f915-7dea-47dd-8d18-8bfe84a5e529",
   "metadata": {},
   "source": [
    "### 3.4 Community Detection\n",
    "\n",
    "Community detection is a process of partitioning nodes into groups or communities based on their connection patterns. Nodes in the same community are usually highly connected to each other.\n",
    "\n",
    "In communication research, community detection can be useful to identify subgroups within a larger network that have more frequent or more intense interactions. For example, within a social network, communities might represent different social circles or groups that a person is part of.\n",
    "\n",
    "#### NetworkX Function for Community Detection\n",
    "\n",
    "NetworkX has several community detection algorithms. One commonly used method is the Louvain method, which is a greedy optimization method to find communities at a large scale. To use this method, we need to install and import the community module (`python-louvain`).\n",
    "\n",
    "Here's an example of how to use the Louvain method for community detection:"
   ]
  },
  {
   "cell_type": "code",
   "execution_count": null,
   "id": "880a28a7-f5c9-4c8c-986f-0815ace8e247",
   "metadata": {
    "tags": []
   },
   "outputs": [],
   "source": [
    "!pip install community"
   ]
  },
  {
   "cell_type": "code",
   "execution_count": null,
   "id": "64720cd6-ab40-430e-9970-71b3b6610276",
   "metadata": {
    "tags": []
   },
   "outputs": [],
   "source": [
    "!pip install python-louvain"
   ]
  },
  {
   "cell_type": "code",
   "execution_count": null,
   "id": "0e87e1e0-a4e2-4de0-bce6-220dff027d34",
   "metadata": {
    "tags": []
   },
   "outputs": [],
   "source": [
    "import community.community_louvain as community_louvain\n",
    "\n",
    "partition = community_louvain.best_partition(G)\n",
    "nx.set_node_attributes(G, partition, 'modularity')"
   ]
  },
  {
   "cell_type": "markdown",
   "id": "f3d21819-6e4b-49a7-9025-050e6208544d",
   "metadata": {},
   "source": [
    "In the above code, `community_louvain.best_partition(G)` returns a dictionary where keys are the nodes and the values are the community that node belongs to."
   ]
  },
  {
   "cell_type": "markdown",
   "id": "c9377b1b-8376-4e93-a64d-808dd9887ccc",
   "metadata": {},
   "source": [
    "#### Visualizing Communities\n",
    "\n",
    "When visualizing a network with communities, nodes from the same community can be displayed with the same color."
   ]
  },
  {
   "cell_type": "code",
   "execution_count": null,
   "id": "dfd1d524-6d3e-4cde-9772-4ca74840fb16",
   "metadata": {
    "tags": []
   },
   "outputs": [],
   "source": [
    "plt.figure(figsize=(10,10))\n",
    "cmap = plt.get_cmap('viridis')\n",
    "num_communities = max(partition.values()) + 1\n",
    "node_color = [cmap(val / num_communities) for val in partition.values()]\n",
    "nx.draw(G, pos, node_color=node_color, with_labels=True)\n",
    "plt.show()"
   ]
  },
  {
   "cell_type": "markdown",
   "id": "38dfad59-fb38-4927-897c-60b101dd091f",
   "metadata": {},
   "source": [
    "## Conclusion\n",
    "\n",
    "In this notebook, we have covered the basic concepts and methods in network analysis, including the principles of graph theory, key network measures, and visualization of network data. We demonstrated how these techniques can be applied to the analysis of Twitter data.\n",
    "\n",
    "Network analysis is an extremely valuable tool in communication research. The rise of digital communication platforms has led to an explosion in network data, from social networks like Twitter and Facebook, to hyperlink networks between websites, to co-authorship networks in academic publishing. The techniques we've learned here will enable you to extract meaningful insights from these complex datasets.\n",
    "\n",
    "Here are some key takeaways:\n",
    "\n",
    "1. **Nodes and Edges**: The fundamental elements of a network are nodes (individual entities) and edges (connections between them). In our Twitter example, nodes were users, and edges were replies, retweets, or mentions between users.\n",
    "2. **Data Structures for Network Analysis**: Adjacency matrices and edge lists are commonly used data structures for network analysis. Each structure is suitable for different kinds of analysis and computational needs.\n",
    "3. **Network Measures**: We discussed several network measures including degree, centrality, clustering coefficient, and community detection. These measures can reveal important characteristics about individual nodes as well as the overall network structure.\n",
    "4. **Community Detection**: Communities are groups of nodes that are more densely connected to each other than to the rest of the network. Identifying these communities can provide insights into the structure and dynamics of the network.\n",
    "5. **Visualization**: Visualizing networks can be a powerful way to explore and present your data. However, as networks get larger, effective visualization can become challenging.\n",
    "\n",
    "Remember, network analysis is a complex and multifaceted discipline. What we have covered today is only a small fraction of what is possible. As you move forward in your research, I encourage you to explore more advanced topics in network analysis such as dynamic networks, network diffusion, and multiplex networks.\n",
    "\n",
    "Network analysis opens up a new perspective on communication research. It allows us to view communication not just as a one-way or two-way process, but as a complex web of interactions that shape and are shaped by the broader social context. As you delve deeper into this fascinating field, you'll find that it offers not only new methods, but also new ways of thinking about the nature of communication itself."
   ]
  }
 ],
 "metadata": {
  "kernelspec": {
   "display_name": "Python 3 (ipykernel)",
   "language": "python",
   "name": "python3"
  },
  "language_info": {
   "codemirror_mode": {
    "name": "ipython",
    "version": 3
   },
   "file_extension": ".py",
   "mimetype": "text/x-python",
   "name": "python",
   "nbconvert_exporter": "python",
   "pygments_lexer": "ipython3",
   "version": "3.10.9"
  }
 },
 "nbformat": 4,
 "nbformat_minor": 5
}
