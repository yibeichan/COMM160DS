{
 "cells": [
  {
   "cell_type": "markdown",
   "id": "46645636-69a6-41fb-9c1f-8ca857bfd5df",
   "metadata": {},
   "source": [
    "# Numpy and Python Functions, Modules\n",
    "\n",
    "## Table of Contents\n",
    "1. Numpy Introduction\n",
    "2. Python Functions\n",
    "3. Python Modules"
   ]
  },
  {
   "cell_type": "markdown",
   "id": "864e6a7a-19e2-4953-8144-e17e31710c92",
   "metadata": {},
   "source": [
    "## 1. Numpy Introduction"
   ]
  },
  {
   "cell_type": "markdown",
   "id": "dd4baacd-3807-4ae3-8b33-27ce2637ce82",
   "metadata": {
    "tags": []
   },
   "source": [
    "### 1.1 Why Numpy?\n",
    "Numpy is a powerful library for numerical computing in Python. It provides efficient, easy-to-use data structures like **arrays** and **matrices**, and is optimized for **mathematical operations**. Numpy is widely used in scientific computing, data analysis, and machine learning.\n"
   ]
  },
  {
   "cell_type": "markdown",
   "id": "f0adb5f9-2f03-43e1-bfd4-963b272c4da0",
   "metadata": {},
   "source": [
    "### 1.2 Numpy Arrays vs Python Lists\n",
    "Numpy arrays are the main data structure provided by the library. They are similar to Python lists but are more efficient and provide additional functionality for mathematical operations. Some differences include:\n",
    "\n",
    "- Numpy arrays are homogeneous (all elements must be of the same type), while Python lists can be heterogeneous.\n",
    "- Numpy arrays support element-wise operations, while Python lists do not.\n",
    "- Numpy arrays are more memory-efficient and faster for numerical computations than Python lists."
   ]
  },
  {
   "cell_type": "markdown",
   "id": "efc4db14-ccab-4c49-9f10-55475dd125af",
   "metadata": {},
   "source": [
    "### 1.3 Basic Operations\n",
    "Numpy arrays support basic arithmetic operations, broadcasting, indexing, and slicing."
   ]
  },
  {
   "cell_type": "markdown",
   "id": "180847a5-5c4f-441f-9fd7-8225733b33cb",
   "metadata": {},
   "source": [
    "### 1.4 Examples"
   ]
  },
  {
   "cell_type": "code",
   "execution_count": 1,
   "id": "d0a00fc7-48d2-4c2d-af37-34cc843e2205",
   "metadata": {
    "tags": []
   },
   "outputs": [],
   "source": [
    "import numpy as np\n",
    "\n",
    "# Creating a numpy array and Python list\n",
    "a = np.array([1, 2, 3, 4, 5])\n",
    "lst = [1, 2, 3, 4, 5]"
   ]
  },
  {
   "cell_type": "code",
   "execution_count": 2,
   "id": "f90cf8fa-13a6-4201-a7ad-9d8e58e8007c",
   "metadata": {
    "tags": []
   },
   "outputs": [
    {
     "name": "stdout",
     "output_type": "stream",
     "text": [
      "[ 6  7  8  9 10]\n",
      "[ 2  4  6  8 10]\n"
     ]
    }
   ],
   "source": [
    "# Element-wise operations with numpy arrays\n",
    "print(a + 5)\n",
    "print(a * 2) "
   ]
  },
  {
   "cell_type": "code",
   "execution_count": 3,
   "id": "e758fdcb-6c00-4df7-a9fc-c311558788ee",
   "metadata": {
    "tags": []
   },
   "outputs": [
    {
     "name": "stdout",
     "output_type": "stream",
     "text": [
      "[ 2  4  6  8 10]\n"
     ]
    }
   ],
   "source": [
    "# Broadcasting with numpy arrays\n",
    "b = np.array([2, 2, 2, 2, 2])\n",
    "print(a * b)"
   ]
  },
  {
   "cell_type": "code",
   "execution_count": 4,
   "id": "fe85a3f3-f7b2-44e4-8622-0a1e8dada5d6",
   "metadata": {
    "tags": []
   },
   "outputs": [
    {
     "ename": "TypeError",
     "evalue": "can only concatenate list (not \"int\") to list",
     "output_type": "error",
     "traceback": [
      "\u001b[0;31m---------------------------------------------------------------------------\u001b[0m",
      "\u001b[0;31mTypeError\u001b[0m                                 Traceback (most recent call last)",
      "Cell \u001b[0;32mIn[4], line 3\u001b[0m\n\u001b[1;32m      1\u001b[0m \u001b[38;5;66;03m# Element-wise operations are not supported with Python lists\u001b[39;00m\n\u001b[1;32m      2\u001b[0m \u001b[38;5;66;03m# The following lines of code would raise an error\u001b[39;00m\n\u001b[0;32m----> 3\u001b[0m \u001b[38;5;28mprint\u001b[39m(\u001b[43mlst\u001b[49m\u001b[43m \u001b[49m\u001b[38;5;241;43m+\u001b[39;49m\u001b[43m \u001b[49m\u001b[38;5;241;43m5\u001b[39;49m)\n\u001b[1;32m      4\u001b[0m \u001b[38;5;28mprint\u001b[39m(lst \u001b[38;5;241m*\u001b[39m \u001b[38;5;241m2\u001b[39m)\n",
      "\u001b[0;31mTypeError\u001b[0m: can only concatenate list (not \"int\") to list"
     ]
    }
   ],
   "source": [
    "# Element-wise operations are not supported with Python lists\n",
    "# The following lines of code would raise an error\n",
    "print(lst + 5)\n",
    "print(lst * 2)"
   ]
  },
  {
   "cell_type": "code",
   "execution_count": 5,
   "id": "1d8ba44d-8c0a-4a8d-b29c-97d58dff8b9b",
   "metadata": {
    "tags": []
   },
   "outputs": [
    {
     "name": "stdout",
     "output_type": "stream",
     "text": [
      "2\n",
      "[2 3 4]\n"
     ]
    }
   ],
   "source": [
    "# Indexing and slicing with numpy arrays\n",
    "print(a[1])       # Output: 2\n",
    "print(a[1:4])"
   ]
  },
  {
   "cell_type": "code",
   "execution_count": 6,
   "id": "bfbefd44-c351-4abc-be59-034a1df39c83",
   "metadata": {
    "tags": []
   },
   "outputs": [
    {
     "name": "stdout",
     "output_type": "stream",
     "text": [
      "2\n",
      "[2, 3, 4]\n"
     ]
    }
   ],
   "source": [
    "# Indexing and slicing with Python lists\n",
    "print(lst[1])\n",
    "print(lst[1:4]) "
   ]
  },
  {
   "cell_type": "code",
   "execution_count": 8,
   "id": "f4496535-9022-4280-a7f3-0c077b03309f",
   "metadata": {
    "tags": []
   },
   "outputs": [
    {
     "data": {
      "text/plain": [
       "array(['1', '2', 'book', '2'], dtype='<U21')"
      ]
     },
     "execution_count": 8,
     "metadata": {},
     "output_type": "execute_result"
    }
   ],
   "source": [
    "a2 = np.array([1, 2, \"book\", \"2\"])\n",
    "a2"
   ]
  },
  {
   "cell_type": "markdown",
   "id": "e042ec28-581b-461e-812b-50b995303355",
   "metadata": {},
   "source": [
    "## 2. Python Functions"
   ]
  },
  {
   "cell_type": "markdown",
   "id": "f5861f3b-745f-40ef-a292-6c6719fdbd49",
   "metadata": {},
   "source": [
    "### 2.1 Overview\n",
    "Functions are blocks of code that perform a specific task and can be reused throughout a program. They improve code readability and modularity, making it easier to maintain and debug. Functions are defined using the `def` keyword, followed by the function name, a pair of parentheses containing input arguments, and a colon. The function body is indented and usually ends with a `return` statement to provide the output."
   ]
  },
  {
   "cell_type": "markdown",
   "id": "3c856020-3942-4282-a70b-7ff79d678d02",
   "metadata": {},
   "source": [
    "### 2.2 Function Syntax"
   ]
  },
  {
   "cell_type": "code",
   "execution_count": 9,
   "id": "a935163a-ba6a-4aaf-9509-c46a15a3ec73",
   "metadata": {
    "tags": []
   },
   "outputs": [],
   "source": [
    "def function_name(arguments):\n",
    "    # Function body\n",
    "    result = perform_some_operation(arguments)\n",
    "    return result"
   ]
  },
  {
   "cell_type": "markdown",
   "id": "725b8142-a0af-4b14-afbe-eb6c7049a7d7",
   "metadata": {},
   "source": [
    "### 2.3 Examples\n",
    "#### Example 1: Simple Function"
   ]
  },
  {
   "cell_type": "code",
   "execution_count": 10,
   "id": "743a26de-b002-47c2-84d8-4e3af0ec807b",
   "metadata": {
    "tags": []
   },
   "outputs": [
    {
     "name": "stdout",
     "output_type": "stream",
     "text": [
      "Hello, Alice!\n"
     ]
    }
   ],
   "source": [
    "def greet(name):\n",
    "    return f\"Hello, {name}!\"\n",
    "\n",
    "print(greet(\"Alice\"))  # Output: \"Hello, Alice!\""
   ]
  },
  {
   "cell_type": "markdown",
   "id": "c4ac402e-d88f-496d-b61a-3be137e62686",
   "metadata": {},
   "source": [
    "#### Example 2: Function with Multiple Arguments"
   ]
  },
  {
   "cell_type": "code",
   "execution_count": 11,
   "id": "0008390d-6334-41ce-b512-fcf28f2f195a",
   "metadata": {
    "tags": []
   },
   "outputs": [
    {
     "name": "stdout",
     "output_type": "stream",
     "text": [
      "8\n"
     ]
    }
   ],
   "source": [
    "def add(a, b):\n",
    "    return a + b\n",
    "\n",
    "print(add(3, 5))  # Output: 8"
   ]
  },
  {
   "cell_type": "markdown",
   "id": "93b30878-0411-42df-aefe-02aa44629bbe",
   "metadata": {},
   "source": [
    "#### Example 3: Function with Default Argument Values"
   ]
  },
  {
   "cell_type": "code",
   "execution_count": 12,
   "id": "b157b0e7-61d6-43ee-95c6-50eff7d3bd6a",
   "metadata": {
    "tags": []
   },
   "outputs": [],
   "source": [
    "def power(base, exponent=2):\n",
    "    return base ** exponent"
   ]
  },
  {
   "cell_type": "code",
   "execution_count": 13,
   "id": "703c2794-6311-41f6-a6f6-ae0d3cb81f8c",
   "metadata": {
    "tags": []
   },
   "outputs": [
    {
     "name": "stdout",
     "output_type": "stream",
     "text": [
      "9\n"
     ]
    }
   ],
   "source": [
    "print(power(3))"
   ]
  },
  {
   "cell_type": "code",
   "execution_count": 14,
   "id": "664d6e30-bdb1-45e7-8c65-2620d4a8cbef",
   "metadata": {
    "tags": []
   },
   "outputs": [
    {
     "name": "stdout",
     "output_type": "stream",
     "text": [
      "27\n"
     ]
    }
   ],
   "source": [
    "print(power(3, 3))"
   ]
  },
  {
   "cell_type": "markdown",
   "id": "7309621f-d7bb-4c2e-ad3f-908cfb984b9c",
   "metadata": {},
   "source": [
    "### 2.4 Exercises\n",
    "\n",
    "#### Exercise 1\n",
    "\n",
    "Write a function that accepts two numbers and returns their product."
   ]
  },
  {
   "cell_type": "markdown",
   "id": "0a0c46f0-c9b5-40d8-9b31-39580b02a1b6",
   "metadata": {},
   "source": [
    "#### Exercise 2\n",
    "\n",
    "Write a function that takes a list of numbers and returns the maximum value."
   ]
  },
  {
   "cell_type": "markdown",
   "id": "0e942d26-bda7-48ce-ba99-86041ffc575c",
   "metadata": {},
   "source": [
    "## 3. Python Modules"
   ]
  },
  {
   "cell_type": "markdown",
   "id": "de380f86-cbb1-4be5-acc9-e40cd3b88dae",
   "metadata": {},
   "source": [
    "### 3.1 Overview\n",
    "Modules in Python are files containing Python code, which can include variables, functions, and classes. They allow you to organize your code in a logical and reusable manner. By importing modules, you can access their functionality in your own code without having to rewrite the same code."
   ]
  },
  {
   "cell_type": "markdown",
   "id": "164514cf-5875-4d17-826a-25ac1ecce508",
   "metadata": {},
   "source": [
    "### 3.2 Importing Modules\n",
    "To use a module in your code, you first need to import it using the `import` keyword, followed by the module name.\n",
    "\n",
    "```python\n",
    "import module_name\n"
   ]
  },
  {
   "cell_type": "markdown",
   "id": "ca48fcfd-915d-476f-9138-cacc15112e2c",
   "metadata": {},
   "source": [
    "After importing a module, you can access its functions, classes, or variables using dot notation.\n",
    "\n",
    "```python\n",
    "result = module_name.function_name(arguments)\n"
   ]
  },
  {
   "cell_type": "markdown",
   "id": "2978900f-d100-4012-91bc-72bff2723ed7",
   "metadata": {},
   "source": [
    "### 3.3 Examples\n",
    "\n",
    "#### Example 1: Importing the math module\n",
    "\n",
    "The math module is a built-in Python module that provides various mathematical functions and constants."
   ]
  },
  {
   "cell_type": "code",
   "execution_count": 17,
   "id": "e39a2850-c838-4e25-ab6e-401b5b4e1444",
   "metadata": {},
   "outputs": [
    {
     "name": "stdout",
     "output_type": "stream",
     "text": [
      "4.0\n"
     ]
    }
   ],
   "source": [
    "import math\n",
    "\n",
    "# Calculate the square root of 16\n",
    "sqrt_result = math.sqrt(16)\n",
    "print(sqrt_result)"
   ]
  },
  {
   "cell_type": "code",
   "execution_count": 16,
   "id": "14e25db6-ced2-4560-ac4f-9925b80b81fa",
   "metadata": {
    "tags": []
   },
   "outputs": [
    {
     "name": "stdout",
     "output_type": "stream",
     "text": [
      "0.7071067811865476\n"
     ]
    }
   ],
   "source": [
    "# Calculate the cosine of 45 degrees\n",
    "cos_result = math.cos(math.radians(45))\n",
    "print(cos_result)"
   ]
  },
  {
   "cell_type": "markdown",
   "id": "9200029b-be26-4b04-a5ad-4c610496c543",
   "metadata": {},
   "source": [
    "#### Example 2: Importing a specific function from a module\n",
    "\n",
    "Instead of importing the entire module, you can import a specific function using the `from ... import ...` statement."
   ]
  },
  {
   "cell_type": "code",
   "execution_count": 18,
   "id": "68f72361-33f4-474a-a52f-cb3b74f00ece",
   "metadata": {
    "tags": []
   },
   "outputs": [
    {
     "name": "stdout",
     "output_type": "stream",
     "text": [
      "4.0\n"
     ]
    }
   ],
   "source": [
    "from math import sqrt\n",
    "\n",
    "# Calculate the square root of 16\n",
    "sqrt_result = sqrt(16)\n",
    "print(sqrt_result)"
   ]
  },
  {
   "cell_type": "markdown",
   "id": "f0cfc3d7-b8ea-48a0-9e06-c40e6ba1e038",
   "metadata": {},
   "source": [
    "#### Example 3: Importing a module with an alias\n",
    "\n",
    "If you want to use a shorter name for a module, you can import it with an alias using the as keyword."
   ]
  },
  {
   "cell_type": "code",
   "execution_count": 20,
   "id": "15fe6dac-f057-4b11-8946-dc739b88875f",
   "metadata": {
    "tags": []
   },
   "outputs": [
    {
     "name": "stdout",
     "output_type": "stream",
     "text": [
      "4.0\n"
     ]
    }
   ],
   "source": [
    "import math as m\n",
    "\n",
    "# Calculate the square root of 16\n",
    "sqrt_result = m.sqrt(16)\n",
    "print(sqrt_result)"
   ]
  },
  {
   "cell_type": "markdown",
   "id": "29148936-d3b6-403d-8cc3-52055585f0a4",
   "metadata": {
    "tags": []
   },
   "source": [
    "### 3.4 Exercises\n",
    "\n",
    "#### Exercise 1\n",
    "\n",
    "Import the random module and generate a random integer between 1 and 100."
   ]
  },
  {
   "cell_type": "markdown",
   "id": "713ef058-fc1e-4c1b-9651-d027a3f4ce08",
   "metadata": {},
   "source": [
    "#### Exercise 2\n",
    "\n",
    "Use the datetime module to find the current date and time, and print it in the format \"YYYY-MM-DD HH:MM:SS\"."
   ]
  },
  {
   "cell_type": "code",
   "execution_count": null,
   "id": "84182664-7cfc-4bf1-b66c-e25996c6b084",
   "metadata": {},
   "outputs": [],
   "source": []
  }
 ],
 "metadata": {
  "kernelspec": {
   "display_name": "Python 3 (ipykernel)",
   "language": "python",
   "name": "python3"
  },
  "language_info": {
   "codemirror_mode": {
    "name": "ipython",
    "version": 3
   },
   "file_extension": ".py",
   "mimetype": "text/x-python",
   "name": "python",
   "nbconvert_exporter": "python",
   "pygments_lexer": "ipython3",
   "version": "3.10.9"
  }
 },
 "nbformat": 4,
 "nbformat_minor": 5
}
