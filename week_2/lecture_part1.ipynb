{
 "cells": [
  {
   "cell_type": "markdown",
   "id": "499c63e2-9f53-48c0-be9d-7054c145830f",
   "metadata": {
    "tags": []
   },
   "source": [
    "# Python Data Structures: Lists, Tuples, Sets, and Dictionaries\n",
    "\n",
    "## Table of Contents\n",
    "1. Lists\n",
    "    - Introduction\n",
    "    - Syntax\n",
    "    - Examples\n",
    "    - Exercises\n",
    "2. Tuples\n",
    "    - Introduction\n",
    "    - Syntax\n",
    "    - Examples\n",
    "    - Exercises\n",
    "3. Sets\n",
    "    - Introduction\n",
    "    - Syntax\n",
    "    - Examples\n",
    "    - Exercises\n",
    "4. Dictionaries\n",
    "    - Introduction\n",
    "    - Syntax\n",
    "    - Examples\n",
    "    - Exercises"
   ]
  },
  {
   "cell_type": "markdown",
   "id": "c4a3dc6a-bbf4-49e8-a025-497aacbbcf43",
   "metadata": {
    "tags": []
   },
   "source": [
    "# Lists"
   ]
  },
  {
   "cell_type": "markdown",
   "id": "a1b02918-4f9e-4350-90ba-65636badadbf",
   "metadata": {},
   "source": [
    "## 1. Introduction\n",
    "Lists are a fundamental data structure in programming, used to store ordered collections of items. They allow you to organize and manage data in a linear fashion, making them ideal for tasks such as storing sequences, maintaining sorted data, and keeping track of elements in a specific order.\n",
    "\n",
    "Lists are **mutable**, meaning you can change their contents (add, remove, or modify elements) after they are created. They can also hold items of different data types, including other lists, allowing for complex data structures."
   ]
  },
  {
   "cell_type": "markdown",
   "id": "03f66026-699e-4bb1-9bc4-2d35943a2ba4",
   "metadata": {},
   "source": [
    "## 2. Syntax\n",
    "\n",
    "### List creation\n",
    "You can create a list using square brackets `[]` and separating elements with commas. For example:"
   ]
  },
  {
   "cell_type": "code",
   "execution_count": 1,
   "id": "130aa603-76c6-4a8f-ae39-7c3f7f1a6aff",
   "metadata": {
    "tags": []
   },
   "outputs": [],
   "source": [
    "my_list = [1, 2, 3, 4, 5]"
   ]
  },
  {
   "cell_type": "code",
   "execution_count": 7,
   "id": "b5208750-c1e4-461c-80bc-e8fe95887e18",
   "metadata": {
    "tags": []
   },
   "outputs": [],
   "source": [
    "my_list2 = [2, 3, 4, 5, 1]"
   ]
  },
  {
   "cell_type": "markdown",
   "id": "e8783d21-61c5-4c95-9631-4dc70cfae970",
   "metadata": {},
   "source": [
    "### Accessing elements\n",
    "To access elements in a list, use the index (position) of the element, starting from 0:"
   ]
  },
  {
   "cell_type": "code",
   "execution_count": 8,
   "id": "694e6a54-af74-4d0c-8e47-3c72a434d89e",
   "metadata": {
    "tags": []
   },
   "outputs": [
    {
     "name": "stdout",
     "output_type": "stream",
     "text": [
      "1\n"
     ]
    }
   ],
   "source": [
    "first_element = my_list[0]\n",
    "print(first_element)"
   ]
  },
  {
   "cell_type": "code",
   "execution_count": 12,
   "id": "23cabf2e-7efb-44a5-a29a-de5fb21215d6",
   "metadata": {
    "tags": []
   },
   "outputs": [
    {
     "name": "stdout",
     "output_type": "stream",
     "text": [
      "5\n"
     ]
    }
   ],
   "source": [
    "first_element = my_list2[-2]\n",
    "print(first_element)"
   ]
  },
  {
   "cell_type": "markdown",
   "id": "a631ac08-3fdf-464d-84ec-d736a4827105",
   "metadata": {},
   "source": [
    "### Adding elements\n",
    "You can add elements to a list using the append() method or the + operator:"
   ]
  },
  {
   "cell_type": "code",
   "execution_count": 13,
   "id": "edf151c7-6468-4e1e-b33f-ed32f13324e6",
   "metadata": {
    "tags": []
   },
   "outputs": [],
   "source": [
    "my_list.append(6)"
   ]
  },
  {
   "cell_type": "code",
   "execution_count": 15,
   "id": "f12cec17-7089-4bbf-a588-1bf924890c6c",
   "metadata": {
    "tags": []
   },
   "outputs": [],
   "source": [
    "my_list.append(10)"
   ]
  },
  {
   "cell_type": "code",
   "execution_count": 16,
   "id": "b931938b-4906-41f7-a61f-07ffb892b5f5",
   "metadata": {
    "tags": []
   },
   "outputs": [
    {
     "data": {
      "text/plain": [
       "7"
      ]
     },
     "execution_count": 16,
     "metadata": {},
     "output_type": "execute_result"
    }
   ],
   "source": [
    "len(my_list)"
   ]
  },
  {
   "cell_type": "code",
   "execution_count": 17,
   "id": "0991686f-ca94-48cb-8c54-715a8a39fede",
   "metadata": {
    "tags": []
   },
   "outputs": [
    {
     "data": {
      "text/plain": [
       "[1, 2, 3, 4, 5, 6, 10]"
      ]
     },
     "execution_count": 17,
     "metadata": {},
     "output_type": "execute_result"
    }
   ],
   "source": [
    "my_list"
   ]
  },
  {
   "cell_type": "markdown",
   "id": "8f12d84b-52a0-46d8-9e3d-b8edb13c8021",
   "metadata": {},
   "source": [
    "# length `len()`"
   ]
  },
  {
   "cell_type": "markdown",
   "id": "6569a9fe-5200-4b40-b7d6-ff5dc5d0480f",
   "metadata": {},
   "source": [
    "### Removing elements\n",
    "To remove elements, you can use the remove() method or the pop() method:"
   ]
  },
  {
   "cell_type": "code",
   "execution_count": 18,
   "id": "9fd9c1d6-712b-4270-bf97-2a3ec9a838f4",
   "metadata": {
    "tags": []
   },
   "outputs": [],
   "source": [
    "my_list.remove(6)"
   ]
  },
  {
   "cell_type": "code",
   "execution_count": 20,
   "id": "99acc413-801a-4ece-a71d-e7176b6b2efc",
   "metadata": {
    "tags": []
   },
   "outputs": [
    {
     "data": {
      "text/plain": [
       "6"
      ]
     },
     "execution_count": 20,
     "metadata": {},
     "output_type": "execute_result"
    }
   ],
   "source": [
    "len(my_list)"
   ]
  },
  {
   "cell_type": "markdown",
   "id": "14f67fdd-06b3-4639-abc3-db4099b49399",
   "metadata": {},
   "source": [
    "## 3. Examples"
   ]
  },
  {
   "cell_type": "code",
   "execution_count": 21,
   "id": "e3992a31-b7e1-4c0d-b56e-9552e70c02fc",
   "metadata": {
    "tags": []
   },
   "outputs": [],
   "source": [
    "# Creating a list\n",
    "fruits = ['apple', 'banana', 'cherry']"
   ]
  },
  {
   "cell_type": "code",
   "execution_count": 22,
   "id": "7914ce73-972a-4806-acaa-24b0faa2b490",
   "metadata": {
    "tags": []
   },
   "outputs": [
    {
     "name": "stdout",
     "output_type": "stream",
     "text": [
      "apple\n"
     ]
    }
   ],
   "source": [
    "# Accessing elements\n",
    "print(fruits[0])"
   ]
  },
  {
   "cell_type": "code",
   "execution_count": 23,
   "id": "84f72cd1-e9f4-4a45-910a-1f9702b21a87",
   "metadata": {
    "tags": []
   },
   "outputs": [
    {
     "name": "stdout",
     "output_type": "stream",
     "text": [
      "['apple', 'banana', 'cherry', 'orange']\n"
     ]
    }
   ],
   "source": [
    "# Adding elements\n",
    "fruits.append('orange')\n",
    "print(fruits)"
   ]
  },
  {
   "cell_type": "code",
   "execution_count": 24,
   "id": "4c9bca7c-a60e-480a-9c83-d6196d876171",
   "metadata": {
    "tags": []
   },
   "outputs": [
    {
     "name": "stdout",
     "output_type": "stream",
     "text": [
      "['apple', 'cherry', 'orange']\n"
     ]
    }
   ],
   "source": [
    "# Removing elements\n",
    "fruits.remove('banana')\n",
    "print(fruits)"
   ]
  },
  {
   "cell_type": "markdown",
   "id": "ab383b7a-eacb-4cd6-92d4-292e5c795b9d",
   "metadata": {},
   "source": [
    "## 4. Exercises\n",
    "\n",
    "### Exercise 1\n",
    "Create a list of your favorite movies and print the first and last elements."
   ]
  },
  {
   "cell_type": "code",
   "execution_count": 25,
   "id": "d6819538-f72f-46f7-a0b5-fd75e0a4be94",
   "metadata": {
    "tags": []
   },
   "outputs": [],
   "source": [
    "movies = [\"harry potter\", \"frozen\", \"everything everywhere all at once\"]"
   ]
  },
  {
   "cell_type": "code",
   "execution_count": 29,
   "id": "da323c09-a54c-4114-ab40-c753b4f664c8",
   "metadata": {
    "tags": []
   },
   "outputs": [
    {
     "name": "stdout",
     "output_type": "stream",
     "text": [
      "harry potter\n"
     ]
    }
   ],
   "source": [
    "print(movies[0])"
   ]
  },
  {
   "cell_type": "code",
   "execution_count": 30,
   "id": "6d916c57-e06b-4736-8687-1896ed279011",
   "metadata": {
    "tags": []
   },
   "outputs": [
    {
     "name": "stdout",
     "output_type": "stream",
     "text": [
      "everything everywhere all at once\n"
     ]
    }
   ],
   "source": [
    "print(movies[2])"
   ]
  },
  {
   "cell_type": "markdown",
   "id": "3f030590-7121-4fa8-add2-6e7bf2d6a52f",
   "metadata": {},
   "source": [
    "### Exercise 2\n",
    "Add two more movies to your list and remove the second movie. Print the updated list."
   ]
  },
  {
   "cell_type": "code",
   "execution_count": 35,
   "id": "e77357f7-e049-4c90-9fd7-7b0b937b98e0",
   "metadata": {
    "tags": []
   },
   "outputs": [],
   "source": [
    "movies.append(\"shrek\")\n",
    "movies.append(\"notebook\")"
   ]
  },
  {
   "cell_type": "code",
   "execution_count": 36,
   "id": "5092d610-b7f1-4ea5-8c1d-98ed51798f16",
   "metadata": {
    "tags": []
   },
   "outputs": [
    {
     "data": {
      "text/plain": [
       "['harry potter', 'shrek', 'notebook', 'shrek', 'notebook']"
      ]
     },
     "execution_count": 36,
     "metadata": {},
     "output_type": "execute_result"
    }
   ],
   "source": [
    "movies"
   ]
  },
  {
   "cell_type": "code",
   "execution_count": 33,
   "id": "f12676e0-87a3-4dd0-bfb6-7ba10ad9a94a",
   "metadata": {
    "tags": []
   },
   "outputs": [
    {
     "name": "stdout",
     "output_type": "stream",
     "text": [
      "['harry potter', 'everything everywhere all at once', 'shrek', 'notebook']\n"
     ]
    }
   ],
   "source": [
    "movies.remove(\"frozen\")\n",
    "print(movies)"
   ]
  },
  {
   "cell_type": "code",
   "execution_count": 34,
   "id": "4285be14-0dd5-4f8a-8fcf-9d62502578fc",
   "metadata": {
    "tags": []
   },
   "outputs": [
    {
     "data": {
      "text/plain": [
       "['harry potter', 'shrek', 'notebook']"
      ]
     },
     "execution_count": 34,
     "metadata": {},
     "output_type": "execute_result"
    }
   ],
   "source": [
    "movies.remove(movies[1])\n",
    "movies"
   ]
  },
  {
   "cell_type": "markdown",
   "id": "009bff7a-05c2-4ccb-833a-e5f0f20b7d68",
   "metadata": {
    "tags": []
   },
   "source": [
    "# Tuples"
   ]
  },
  {
   "cell_type": "markdown",
   "id": "db57f4de-ce56-4776-9f0e-13dbb286fabd",
   "metadata": {},
   "source": [
    "## 1. Introduction\n",
    "Tuples are similar to lists, but they are immutable, meaning their contents cannot be changed after they are created. They are used to store ordered collections of items, like lists, but they are ideal for situations where the data should not be modified. Tuples are often used to represent fixed collections of values, such as coordinates, RGB color values, or dates.\n",
    "\n",
    "Because tuples are **immutable**, they are generally faster and require less memory than lists. Additionally, their immutability can help prevent accidental modifications and ensure data consistency."
   ]
  },
  {
   "cell_type": "markdown",
   "id": "37b4db11-3a6d-4c9a-b834-6b82676ba951",
   "metadata": {},
   "source": [
    "## 2. Syntax\n",
    "\n",
    "### Tuple creation\n",
    "You can create a tuple using parentheses `()` and separating elements with commas. For example:"
   ]
  },
  {
   "cell_type": "code",
   "execution_count": 37,
   "id": "30cb4548-c30b-4bf0-836c-cdda628a7f77",
   "metadata": {
    "tags": []
   },
   "outputs": [],
   "source": [
    "my_tuple = (1, 2, 3, 4, 5)"
   ]
  },
  {
   "cell_type": "markdown",
   "id": "2866435b-29c5-4610-b9a5-3654e751422c",
   "metadata": {},
   "source": [
    "### Accessing elements\n",
    "To access elements in a tuple, use the index (position) of the element, starting from 0:"
   ]
  },
  {
   "cell_type": "code",
   "execution_count": 38,
   "id": "09862e65-0590-41b7-8fdb-21355582cb0a",
   "metadata": {
    "tags": []
   },
   "outputs": [
    {
     "name": "stdout",
     "output_type": "stream",
     "text": [
      "1\n"
     ]
    }
   ],
   "source": [
    "first_element = my_tuple[0]\n",
    "print(first_element)"
   ]
  },
  {
   "cell_type": "markdown",
   "id": "2a4aa86a-fb4a-4882-ae1a-63a6222cef49",
   "metadata": {},
   "source": [
    "### Updating values (not allowed)\n",
    "Tuples are immutable, so you cannot directly add, remove, or modify elements. However, you can create a new tuple by combining existing tuples:"
   ]
  },
  {
   "cell_type": "code",
   "execution_count": 39,
   "id": "16b8fa5a-a93b-441c-b59a-a4b58c9e083d",
   "metadata": {
    "tags": []
   },
   "outputs": [
    {
     "ename": "AttributeError",
     "evalue": "'tuple' object has no attribute 'append'",
     "output_type": "error",
     "traceback": [
      "\u001b[0;31m---------------------------------------------------------------------------\u001b[0m",
      "\u001b[0;31mAttributeError\u001b[0m                            Traceback (most recent call last)",
      "Cell \u001b[0;32mIn[39], line 1\u001b[0m\n\u001b[0;32m----> 1\u001b[0m \u001b[43mmy_tuple\u001b[49m\u001b[38;5;241;43m.\u001b[39;49m\u001b[43mappend\u001b[49m(\u001b[38;5;241m3\u001b[39m)\n",
      "\u001b[0;31mAttributeError\u001b[0m: 'tuple' object has no attribute 'append'"
     ]
    }
   ],
   "source": [
    "my_tuple.append(3)"
   ]
  },
  {
   "cell_type": "code",
   "execution_count": 40,
   "id": "54061001-13cc-4fb5-84f7-d810e64d844e",
   "metadata": {
    "tags": []
   },
   "outputs": [
    {
     "name": "stdout",
     "output_type": "stream",
     "text": [
      "(1, 2, 3, 4, 5, 6, 7, 8)\n"
     ]
    }
   ],
   "source": [
    "new_tuple = my_tuple + (6, 7, 8)\n",
    "print(new_tuple)"
   ]
  },
  {
   "cell_type": "code",
   "execution_count": 42,
   "id": "457f0936-0036-4346-8547-0e018407cfce",
   "metadata": {
    "tags": []
   },
   "outputs": [
    {
     "data": {
      "text/plain": [
       "[1, 2, 3, 4, 5, 10, 6, 7, 8]"
      ]
     },
     "execution_count": 42,
     "metadata": {},
     "output_type": "execute_result"
    }
   ],
   "source": [
    "my_list + [6, 7, 8]"
   ]
  },
  {
   "cell_type": "markdown",
   "id": "cf7dacba-d9fc-441f-a8cb-204b66170d0c",
   "metadata": {},
   "source": [
    "## 3. Examples"
   ]
  },
  {
   "cell_type": "code",
   "execution_count": 43,
   "id": "cafe38b6-33f5-49ec-ba1c-6000b743579f",
   "metadata": {
    "tags": []
   },
   "outputs": [
    {
     "name": "stdout",
     "output_type": "stream",
     "text": [
      "apple\n"
     ]
    }
   ],
   "source": [
    "# Creating a tuple\n",
    "fruits = ('apple', 'banana', 'cherry')\n",
    "\n",
    "# Accessing elements\n",
    "print(fruits[0])"
   ]
  },
  {
   "cell_type": "code",
   "execution_count": 44,
   "id": "158aac7f-e551-4e68-9195-d8959155d1c8",
   "metadata": {
    "tags": []
   },
   "outputs": [
    {
     "name": "stdout",
     "output_type": "stream",
     "text": [
      "('apple', 'banana', 'cherry', 'orange', 'grape')\n"
     ]
    }
   ],
   "source": [
    "# Combining tuples\n",
    "more_fruits = ('orange', 'grape')\n",
    "all_fruits = fruits + more_fruits\n",
    "print(all_fruits)"
   ]
  },
  {
   "cell_type": "markdown",
   "id": "df154cb8-946d-416f-8634-b8d0fc576dae",
   "metadata": {},
   "source": [
    "## 4. Exercises\n",
    "\n",
    "### Exercise 1\n",
    "Create a tuple of your favorite colors and print the first and last elements."
   ]
  },
  {
   "cell_type": "code",
   "execution_count": 53,
   "id": "70bf2644-2083-472e-aa9c-503ddc81eca6",
   "metadata": {
    "tags": []
   },
   "outputs": [
    {
     "name": "stdout",
     "output_type": "stream",
     "text": [
      "first element: white, last element: green\n"
     ]
    }
   ],
   "source": [
    "colors = (\"white\", \"orange\", \"green\")\n",
    "print(f\"first element: {colors[0]}, last element: {colors[-1]}\")"
   ]
  },
  {
   "cell_type": "code",
   "execution_count": 52,
   "id": "fd9245d0-e87c-4a24-b503-b49e340c1d9d",
   "metadata": {
    "tags": []
   },
   "outputs": [
    {
     "name": "stdout",
     "output_type": "stream",
     "text": [
      "first element: my_list[0], last element: my_list[-1]\n"
     ]
    }
   ],
   "source": [
    "print(\"first element: my_list[0], last element: my_list[-1]\")"
   ]
  },
  {
   "cell_type": "markdown",
   "id": "708f611e-22ed-4ebe-9072-6aec0f02046b",
   "metadata": {},
   "source": [
    "### Exercise 2\n",
    "Combine two tuples of integers and print the resulting tuple."
   ]
  },
  {
   "cell_type": "code",
   "execution_count": 55,
   "id": "d5c3b438-02d4-41f5-9cd5-18e5f581ddca",
   "metadata": {
    "tags": []
   },
   "outputs": [
    {
     "name": "stdout",
     "output_type": "stream",
     "text": [
      "(5, 6, 8, 10, 11, 12)\n"
     ]
    }
   ],
   "source": [
    "first_tuple = (5, 6, 8)\n",
    "second_tuple = (10, 11, 12)\n",
    "new_tuple = first_tuple + second_tuple\n",
    "print(new_tuple)"
   ]
  },
  {
   "cell_type": "markdown",
   "id": "3908dba8-86c0-4798-886d-2f00e2506830",
   "metadata": {
    "tags": []
   },
   "source": [
    "# Sets"
   ]
  },
  {
   "cell_type": "markdown",
   "id": "d853350b-d197-4538-b85a-13098d5afa72",
   "metadata": {},
   "source": [
    "## 1. Introduction\n",
    "Sets are a collection data type in Python that store unordered and unique elements. They are mutable and support various operations such as union, intersection, and difference, which make them ideal for tasks like finding distinct items, comparing groups, or filtering duplicates.\n",
    "\n",
    "Note that sets do **not support indexing or slicing** due to their unordered nature. Elements in a set must be **immutable**, like strings, numbers, or tuples."
   ]
  },
  {
   "cell_type": "markdown",
   "id": "3a236a24-0f26-4a17-8a92-49c3b60660b6",
   "metadata": {},
   "source": [
    "## 2. Syntax\n",
    "\n",
    "### Set creation\n",
    "You can create a set using the `set()` constructor or by using curly braces `{}` and separating elements with commas. For example:"
   ]
  },
  {
   "cell_type": "code",
   "execution_count": 60,
   "id": "996434db-f465-456b-9888-dcc30a13c7ab",
   "metadata": {
    "tags": []
   },
   "outputs": [],
   "source": [
    "my_set = set(['a', 'b', 'c', 'c', 'c'])\n",
    "my_set2 = {'a', 'b', 'c'}"
   ]
  },
  {
   "cell_type": "code",
   "execution_count": 61,
   "id": "4450a160-0307-430e-8625-ef80ece5ed37",
   "metadata": {
    "tags": []
   },
   "outputs": [
    {
     "data": {
      "text/plain": [
       "{'a', 'b', 'c'}"
      ]
     },
     "execution_count": 61,
     "metadata": {},
     "output_type": "execute_result"
    }
   ],
   "source": [
    "my_set"
   ]
  },
  {
   "cell_type": "code",
   "execution_count": 62,
   "id": "9f68398c-0163-42a3-bf19-4254c47170e7",
   "metadata": {
    "tags": []
   },
   "outputs": [
    {
     "data": {
      "text/plain": [
       "True"
      ]
     },
     "execution_count": 62,
     "metadata": {},
     "output_type": "execute_result"
    }
   ],
   "source": [
    "my_set == my_set2"
   ]
  },
  {
   "cell_type": "markdown",
   "id": "80267cac-152c-493d-96b1-212cbdc6d5ef",
   "metadata": {},
   "source": [
    "### Adding elements\n",
    "To add an element to the set, use the add() method:"
   ]
  },
  {
   "cell_type": "code",
   "execution_count": 63,
   "id": "85c522ef-e5bd-479f-9779-16d35c4dae04",
   "metadata": {
    "tags": []
   },
   "outputs": [
    {
     "data": {
      "text/plain": [
       "{'a', 'b', 'c', 'd'}"
      ]
     },
     "execution_count": 63,
     "metadata": {},
     "output_type": "execute_result"
    }
   ],
   "source": [
    "my_set.add('d')\n",
    "my_set"
   ]
  },
  {
   "cell_type": "markdown",
   "id": "73a5d3c3-6dc7-43a1-a725-9be01aabe5a5",
   "metadata": {},
   "source": [
    "### Removing elements\n",
    "To remove an element from the set, use the remove() or discard() method:"
   ]
  },
  {
   "cell_type": "code",
   "execution_count": 64,
   "id": "31831f6b-750e-4f92-9597-bfe3c6c92550",
   "metadata": {
    "tags": []
   },
   "outputs": [
    {
     "data": {
      "text/plain": [
       "{'b', 'c', 'd'}"
      ]
     },
     "execution_count": 64,
     "metadata": {},
     "output_type": "execute_result"
    }
   ],
   "source": [
    "my_set.remove('a')\n",
    "my_set"
   ]
  },
  {
   "cell_type": "code",
   "execution_count": 65,
   "id": "23cb5231-ec40-455a-876a-9f06de989703",
   "metadata": {
    "tags": []
   },
   "outputs": [
    {
     "ename": "KeyError",
     "evalue": "'a'",
     "output_type": "error",
     "traceback": [
      "\u001b[0;31m---------------------------------------------------------------------------\u001b[0m",
      "\u001b[0;31mKeyError\u001b[0m                                  Traceback (most recent call last)",
      "Cell \u001b[0;32mIn[65], line 1\u001b[0m\n\u001b[0;32m----> 1\u001b[0m \u001b[43mmy_set\u001b[49m\u001b[38;5;241;43m.\u001b[39;49m\u001b[43mremove\u001b[49m\u001b[43m(\u001b[49m\u001b[38;5;124;43m'\u001b[39;49m\u001b[38;5;124;43ma\u001b[39;49m\u001b[38;5;124;43m'\u001b[39;49m\u001b[43m)\u001b[49m\n\u001b[1;32m      2\u001b[0m my_set\n",
      "\u001b[0;31mKeyError\u001b[0m: 'a'"
     ]
    }
   ],
   "source": [
    "my_set.remove('a')\n",
    "my_set"
   ]
  },
  {
   "cell_type": "code",
   "execution_count": 66,
   "id": "cbababfb-c1b7-4123-9d99-ee5b1545b015",
   "metadata": {
    "tags": []
   },
   "outputs": [
    {
     "data": {
      "text/plain": [
       "{'b', 'c', 'd'}"
      ]
     },
     "execution_count": 66,
     "metadata": {},
     "output_type": "execute_result"
    }
   ],
   "source": [
    "my_set"
   ]
  },
  {
   "cell_type": "code",
   "execution_count": 67,
   "id": "e5733f5b-b542-4264-8a90-3ffe3b98788c",
   "metadata": {
    "tags": []
   },
   "outputs": [],
   "source": [
    "my_set.discard('a')  # Does not raise an error if 'a' is not in the set"
   ]
  },
  {
   "cell_type": "code",
   "execution_count": 68,
   "id": "64b84cc7-bdf8-41fc-b224-0c79ffde008c",
   "metadata": {
    "tags": []
   },
   "outputs": [
    {
     "data": {
      "text/plain": [
       "{'b', 'c', 'd'}"
      ]
     },
     "execution_count": 68,
     "metadata": {},
     "output_type": "execute_result"
    }
   ],
   "source": [
    "my_set"
   ]
  },
  {
   "cell_type": "code",
   "execution_count": null,
   "id": "627d3383-de6b-45e8-b122-90cd7c2d222a",
   "metadata": {
    "tags": []
   },
   "outputs": [],
   "source": [
    "my_set.remove('a')  # Raises KeyError if 'a' is not in the set\n",
    "my_set.discard('a')  # Does not raise an error if 'a' is not in the set"
   ]
  },
  {
   "cell_type": "markdown",
   "id": "ef86e177-c2a7-4344-9734-f55e20e67511",
   "metadata": {},
   "source": [
    "### Set operations\n",
    "You can perform various set operations, such as union, intersection, and difference:"
   ]
  },
  {
   "cell_type": "code",
   "execution_count": 75,
   "id": "cd7519ce-1efe-420b-b195-625e253d19d5",
   "metadata": {
    "tags": []
   },
   "outputs": [],
   "source": [
    "set1 = {4, 7, 9, 10}\n",
    "set2 = {11, 13, 90, 100}"
   ]
  },
  {
   "cell_type": "code",
   "execution_count": 73,
   "id": "270c4eb7-debc-4382-8c27-647e03ebb514",
   "metadata": {
    "tags": []
   },
   "outputs": [
    {
     "data": {
      "text/plain": [
       "{4, 7, 9, 10, 11, 13, 90, 100}"
      ]
     },
     "execution_count": 73,
     "metadata": {},
     "output_type": "execute_result"
    }
   ],
   "source": [
    "set1.union(set2)"
   ]
  },
  {
   "cell_type": "code",
   "execution_count": 76,
   "id": "aa154ff2-8a95-49f4-8181-d36b083f19de",
   "metadata": {
    "tags": []
   },
   "outputs": [
    {
     "data": {
      "text/plain": [
       "set()"
      ]
     },
     "execution_count": 76,
     "metadata": {},
     "output_type": "execute_result"
    }
   ],
   "source": [
    "set1.intersection(set2)"
   ]
  },
  {
   "cell_type": "code",
   "execution_count": 77,
   "id": "7419f5b3-dc5a-44e4-af92-3078b4cf46c9",
   "metadata": {
    "tags": []
   },
   "outputs": [
    {
     "data": {
      "text/plain": [
       "{4, 7, 9, 10}"
      ]
     },
     "execution_count": 77,
     "metadata": {},
     "output_type": "execute_result"
    }
   ],
   "source": [
    "set1.difference(set2)"
   ]
  },
  {
   "cell_type": "code",
   "execution_count": 78,
   "id": "0336ca9d-5aaa-48d7-b1b0-ebfc437044e9",
   "metadata": {
    "tags": []
   },
   "outputs": [
    {
     "data": {
      "text/plain": [
       "{11, 13, 90, 100}"
      ]
     },
     "execution_count": 78,
     "metadata": {},
     "output_type": "execute_result"
    }
   ],
   "source": [
    "set2.difference(set1)"
   ]
  },
  {
   "cell_type": "code",
   "execution_count": null,
   "id": "a2de7881-403f-4878-82fe-6fe63ead9a3f",
   "metadata": {
    "tags": []
   },
   "outputs": [],
   "source": [
    "set1.union(set2)\n",
    "set1.intersection(set2)\n",
    "set1.difference(set2)"
   ]
  },
  {
   "cell_type": "markdown",
   "id": "9a105e2a-b7ea-4425-a9c2-fab516487eaa",
   "metadata": {},
   "source": [
    "## 3. Examples"
   ]
  },
  {
   "cell_type": "code",
   "execution_count": 79,
   "id": "2733a185-8271-4024-aa75-9772da28b775",
   "metadata": {
    "tags": []
   },
   "outputs": [
    {
     "name": "stdout",
     "output_type": "stream",
     "text": [
      "{'banana', 'apple', 'cherry', 'orange'}\n"
     ]
    }
   ],
   "source": [
    "# Creating a set\n",
    "fruits = {'apple', 'banana', 'cherry'}\n",
    "\n",
    "# Adding an element\n",
    "fruits.add('orange')\n",
    "print(fruits)"
   ]
  },
  {
   "cell_type": "code",
   "execution_count": 80,
   "id": "994780a0-05d9-4db0-b032-2142934ae720",
   "metadata": {
    "tags": []
   },
   "outputs": [
    {
     "name": "stdout",
     "output_type": "stream",
     "text": [
      "{'apple', 'cherry', 'orange'}\n"
     ]
    }
   ],
   "source": [
    "fruits.remove('banana')\n",
    "print(fruits) "
   ]
  },
  {
   "cell_type": "code",
   "execution_count": 81,
   "id": "34ce3387-d654-4f9d-ac48-41031b08c15e",
   "metadata": {
    "tags": []
   },
   "outputs": [
    {
     "name": "stdout",
     "output_type": "stream",
     "text": [
      "{'cherry', 'grape', 'banana', 'apple', 'orange'}\n",
      "{'banana'}\n",
      "{'cherry', 'apple'}\n"
     ]
    }
   ],
   "source": [
    "# Set operations\n",
    "fruits1 = {'apple', 'banana', 'cherry'}\n",
    "fruits2 = {'orange', 'banana', 'grape'}\n",
    "\n",
    "print(fruits1.union(fruits2))\n",
    "print(fruits1.intersection(fruits2))\n",
    "print(fruits1.difference(fruits2))"
   ]
  },
  {
   "cell_type": "markdown",
   "id": "74458235-3715-4301-ad44-22b38dad883d",
   "metadata": {},
   "source": [
    "## 4. Exercises"
   ]
  },
  {
   "cell_type": "markdown",
   "id": "8197d269-9649-47e4-ad87-15b010eea69f",
   "metadata": {},
   "source": [
    "### Exercise 1\n",
    "Create two sets and find their union, intersection, and difference."
   ]
  },
  {
   "cell_type": "code",
   "execution_count": 82,
   "id": "f1b52916-5116-445e-834e-363cbd8bef7a",
   "metadata": {
    "tags": []
   },
   "outputs": [
    {
     "name": "stdout",
     "output_type": "stream",
     "text": [
      "{'percy', 'the story of your life', 'exhalation', 'orange is not the only fruit', 'hungry games', 'twilight'}\n",
      "{'percy'}\n",
      "{'the story of your life', 'exhalation', 'orange is not the only fruit'}\n"
     ]
    }
   ],
   "source": [
    "books1 = {'hungry games', 'twilight', 'percy'}\n",
    "books2 = {'the story of your life', 'exhalation', 'orange is not the only fruit', 'percy'}\n",
    "print(books1.union(books2))\n",
    "print(books1.intersection(books2))\n",
    "print(books2.difference(books1))"
   ]
  },
  {
   "cell_type": "markdown",
   "id": "f6500968-37fb-4175-a863-8afc90a76993",
   "metadata": {
    "tags": []
   },
   "source": [
    "### Exercise 2\n",
    "Create a set from a list and remove duplicates."
   ]
  },
  {
   "cell_type": "code",
   "execution_count": 83,
   "id": "ac6443c8-e33b-492a-ac04-c70f812d4166",
   "metadata": {
    "tags": []
   },
   "outputs": [
    {
     "data": {
      "text/plain": [
       "{1, 2, '2', 3, 4, '4', 'books', 'orange'}"
      ]
     },
     "execution_count": 83,
     "metadata": {},
     "output_type": "execute_result"
    }
   ],
   "source": [
    "ex2 = {1, \"orange\", \"books\", 2 ,3, \"4\", \"2\", 4, 1, 3}\n",
    "ex2"
   ]
  },
  {
   "cell_type": "code",
   "execution_count": 85,
   "id": "adef2b0b-6a14-4989-840d-f53067d013a3",
   "metadata": {
    "tags": []
   },
   "outputs": [
    {
     "data": {
      "text/plain": [
       "{'a', 'b', 'c', 'd', 'z'}"
      ]
     },
     "execution_count": 85,
     "metadata": {},
     "output_type": "execute_result"
    }
   ],
   "source": [
    "ex3 = {\"a\", \"c\", \"z\", \"b\", \"d\"}\n",
    "ex3"
   ]
  },
  {
   "cell_type": "markdown",
   "id": "af4a48ba-e34d-44fc-93f9-65ece2ca2649",
   "metadata": {
    "tags": []
   },
   "source": [
    "# Dictionaries"
   ]
  },
  {
   "cell_type": "markdown",
   "id": "87edeadb-2c47-4eea-8c5c-3062d6c34d8e",
   "metadata": {},
   "source": [
    "## 1. Introduction\n",
    "Dictionaries are a data structure in Python that store **key-value** pairs. They are mutable, unordered, and allow for efficient data retrieval by key. Dictionaries are useful when you need to associate values with unique keys, such as storing information about a person using their ID, or mapping words to their definitions.\n",
    "\n",
    "Unlike lists and tuples, dictionaries use keys rather than indices to access values. **The keys in a dictionary are unique** and can be any immutable data type, such as strings, numbers, or tuples."
   ]
  },
  {
   "cell_type": "markdown",
   "id": "b9630910-beea-4fc3-845b-992f2908855e",
   "metadata": {},
   "source": [
    "## 2. Syntax\n",
    "\n",
    "### Dictionary creation\n",
    "You can create a dictionary using curly braces `{}` and separating keys and values with colons. For example:"
   ]
  },
  {
   "cell_type": "code",
   "execution_count": 86,
   "id": "a6fd10c3-dda8-466c-a6cb-ebe6dadc8e24",
   "metadata": {
    "tags": []
   },
   "outputs": [],
   "source": [
    "my_dict = {'key1': 'value1', 'key2': 'value2', 'key3': 'value3'}"
   ]
  },
  {
   "cell_type": "markdown",
   "id": "02b18da1-5e7f-4a14-9d9b-452c262c1def",
   "metadata": {},
   "source": [
    "### Accessing elements\n",
    "To access the value associated with a key, use the key inside square brackets:"
   ]
  },
  {
   "cell_type": "code",
   "execution_count": 88,
   "id": "fe6f189b-c3d6-4216-9b45-3838333291fd",
   "metadata": {
    "tags": []
   },
   "outputs": [
    {
     "data": {
      "text/plain": [
       "'value3'"
      ]
     },
     "execution_count": 88,
     "metadata": {},
     "output_type": "execute_result"
    }
   ],
   "source": [
    "value = my_dict['key3']\n",
    "value"
   ]
  },
  {
   "cell_type": "markdown",
   "id": "dedf086a-429b-4c53-9aa5-6f359ebef34e",
   "metadata": {
    "tags": []
   },
   "source": [
    "### Adding or updating values\n",
    "To add a new key-value pair or update an existing one, use the key inside square brackets and assign a value:"
   ]
  },
  {
   "cell_type": "code",
   "execution_count": 89,
   "id": "e20be441-8b6d-4616-b8d0-f1b762f56ed6",
   "metadata": {
    "tags": []
   },
   "outputs": [
    {
     "data": {
      "text/plain": [
       "{'key1': 'value1', 'key2': 'value2', 'key3': 'value3', 'new_key': 'new_value'}"
      ]
     },
     "execution_count": 89,
     "metadata": {},
     "output_type": "execute_result"
    }
   ],
   "source": [
    "my_dict['new_key'] = 'new_value'\n",
    "my_dict"
   ]
  },
  {
   "cell_type": "code",
   "execution_count": 90,
   "id": "193a2596-542c-4b27-8816-9731c19fbee1",
   "metadata": {
    "tags": []
   },
   "outputs": [
    {
     "data": {
      "text/plain": [
       "{'key1': 'value100',\n",
       " 'key2': 'value2',\n",
       " 'key3': 'value3',\n",
       " 'new_key': 'new_value'}"
      ]
     },
     "execution_count": 90,
     "metadata": {},
     "output_type": "execute_result"
    }
   ],
   "source": [
    "my_dict['key1'] = 'value100'\n",
    "my_dict"
   ]
  },
  {
   "cell_type": "markdown",
   "id": "9f6de46a-f0dd-484e-ad74-6f74683894db",
   "metadata": {},
   "source": [
    "### Removing elements\n",
    "To remove an element from the dictionary, use the del keyword and provide the key:"
   ]
  },
  {
   "cell_type": "code",
   "execution_count": 91,
   "id": "2be20bd4-57b0-45d8-ac88-948d9b61aa46",
   "metadata": {
    "tags": []
   },
   "outputs": [],
   "source": [
    "del my_dict['key1']"
   ]
  },
  {
   "cell_type": "code",
   "execution_count": 92,
   "id": "3f35a786-4f6b-4314-be5f-0c7b70fc24d6",
   "metadata": {
    "tags": []
   },
   "outputs": [
    {
     "data": {
      "text/plain": [
       "{'key2': 'value2', 'key3': 'value3', 'new_key': 'new_value'}"
      ]
     },
     "execution_count": 92,
     "metadata": {},
     "output_type": "execute_result"
    }
   ],
   "source": [
    "my_dict"
   ]
  },
  {
   "cell_type": "markdown",
   "id": "611bf031-7b28-4319-bac9-0173c9a7b447",
   "metadata": {},
   "source": [
    "## 3. Examples"
   ]
  },
  {
   "cell_type": "code",
   "execution_count": 93,
   "id": "2a647a4d-90eb-4377-a7da-43c9fc0cff7a",
   "metadata": {
    "tags": []
   },
   "outputs": [
    {
     "name": "stdout",
     "output_type": "stream",
     "text": [
      "red\n"
     ]
    }
   ],
   "source": [
    "# Creating a dictionary\n",
    "fruit_colors = {'apple': 'red', 'banana': 'yellow', 'cherry': 'red'}\n",
    "\n",
    "# Accessing elements\n",
    "print(fruit_colors['apple'])"
   ]
  },
  {
   "cell_type": "code",
   "execution_count": 94,
   "id": "df9ae58e-ec8a-40ae-b048-e2b10184d1dd",
   "metadata": {
    "tags": []
   },
   "outputs": [
    {
     "name": "stdout",
     "output_type": "stream",
     "text": [
      "{'apple': 'red', 'banana': 'yellow', 'cherry': 'red', 'orange': 'orange'}\n"
     ]
    }
   ],
   "source": [
    "# Adding a new key-value pair\n",
    "fruit_colors['orange'] = 'orange'\n",
    "print(fruit_colors)"
   ]
  },
  {
   "cell_type": "code",
   "execution_count": 95,
   "id": "ac8dcdd1-bcf7-4ec4-a7fc-df04349012f8",
   "metadata": {
    "tags": []
   },
   "outputs": [
    {
     "name": "stdout",
     "output_type": "stream",
     "text": [
      "{'apple': 'green', 'banana': 'yellow', 'cherry': 'red', 'orange': 'orange'}\n"
     ]
    }
   ],
   "source": [
    "# Updating an existing key-value pair\n",
    "fruit_colors['apple'] = 'green'\n",
    "print(fruit_colors)"
   ]
  },
  {
   "cell_type": "code",
   "execution_count": 96,
   "id": "65de5f31-9c45-4931-9b21-c3f1dfac1777",
   "metadata": {
    "tags": []
   },
   "outputs": [
    {
     "name": "stdout",
     "output_type": "stream",
     "text": [
      "{'apple': 'green', 'cherry': 'red', 'orange': 'orange'}\n"
     ]
    }
   ],
   "source": [
    "# Removing an element\n",
    "del fruit_colors['banana']\n",
    "print(fruit_colors) "
   ]
  },
  {
   "cell_type": "code",
   "execution_count": 98,
   "id": "3d236ab1-da6b-4763-8038-8aefc14d9969",
   "metadata": {
    "tags": []
   },
   "outputs": [
    {
     "data": {
      "text/plain": [
       "dict_keys(['apple', 'cherry', 'orange'])"
      ]
     },
     "execution_count": 98,
     "metadata": {},
     "output_type": "execute_result"
    }
   ],
   "source": [
    "fruit_colors.keys()"
   ]
  },
  {
   "cell_type": "code",
   "execution_count": 99,
   "id": "69ce1c5d-e458-4286-996b-f09c1c47b4dd",
   "metadata": {
    "tags": []
   },
   "outputs": [
    {
     "data": {
      "text/plain": [
       "dict_values(['green', 'red', 'orange'])"
      ]
     },
     "execution_count": 99,
     "metadata": {},
     "output_type": "execute_result"
    }
   ],
   "source": [
    "fruit_colors.values()"
   ]
  },
  {
   "cell_type": "code",
   "execution_count": 100,
   "id": "dd648143-44db-42d3-9c0b-57c83aec741a",
   "metadata": {
    "tags": []
   },
   "outputs": [
    {
     "data": {
      "text/plain": [
       "dict_items([('apple', 'green'), ('cherry', 'red'), ('orange', 'orange')])"
      ]
     },
     "execution_count": 100,
     "metadata": {},
     "output_type": "execute_result"
    }
   ],
   "source": [
    "fruit_colors.items()"
   ]
  },
  {
   "cell_type": "markdown",
   "id": "2b5c3d0b-7060-43d2-988e-920323f67d37",
   "metadata": {
    "tags": []
   },
   "source": [
    "## 4. Exercises\n",
    "\n",
    "### Exercise 1\n",
    "Create a dictionary with keys representing country names and values representing their capitals. Access the capital of a given country."
   ]
  },
  {
   "cell_type": "code",
   "execution_count": 101,
   "id": "dee48757-bff7-4a4d-b8ad-2cce24cc9b8b",
   "metadata": {
    "tags": []
   },
   "outputs": [],
   "source": [
    "capitals = {\"CA\": \"LA\", \"MA\": \"Boston\", \"Texas\":\"Austin\", \"NY\": \"NYC\"}"
   ]
  },
  {
   "cell_type": "code",
   "execution_count": 103,
   "id": "1ee0413a-0961-47ba-b3d7-bebc45a2ed78",
   "metadata": {
    "tags": []
   },
   "outputs": [
    {
     "data": {
      "text/plain": [
       "'NYC'"
      ]
     },
     "execution_count": 103,
     "metadata": {},
     "output_type": "execute_result"
    }
   ],
   "source": [
    "capitals[\"NY\"]"
   ]
  },
  {
   "cell_type": "code",
   "execution_count": 104,
   "id": "51378570-ec0c-4fe7-a868-0fc56ad82882",
   "metadata": {
    "tags": []
   },
   "outputs": [
    {
     "data": {
      "text/plain": [
       "{'CA': 'LA',\n",
       " 'MA': 'Boston',\n",
       " 'Texas': 'Austin',\n",
       " 'NY': 'NYC',\n",
       " 'washington': 'seattle'}"
      ]
     },
     "execution_count": 104,
     "metadata": {},
     "output_type": "execute_result"
    }
   ],
   "source": [
    "capitals[\"washington\"]=\"seattle\"\n",
    "capitals"
   ]
  },
  {
   "cell_type": "code",
   "execution_count": 105,
   "id": "99af8a24-e06b-42f4-b789-59f0c7917ff3",
   "metadata": {
    "tags": []
   },
   "outputs": [
    {
     "data": {
      "text/plain": [
       "{'CA': 'LA',\n",
       " 'MA': 'Boston',\n",
       " 'Texas': 'Austin',\n",
       " 'NY': 'NYC',\n",
       " 'Washington': 'Seattle'}"
      ]
     },
     "execution_count": 105,
     "metadata": {},
     "output_type": "execute_result"
    }
   ],
   "source": [
    "del capitals[\"washington\"]\n",
    "capitals[\"Washington\"]=\"Seattle\"\n",
    "capitals"
   ]
  },
  {
   "cell_type": "markdown",
   "id": "6c11c417-c438-4214-bb3e-9a0bdb894dd3",
   "metadata": {
    "tags": []
   },
   "source": [
    "### Exercise 2\n",
    "Add a new key-value pair to the dictionary representing a new country and its capital. Then, remove an existing key-value pair."
   ]
  }
 ],
 "metadata": {
  "kernelspec": {
   "display_name": "Python 3 (ipykernel)",
   "language": "python",
   "name": "python3"
  },
  "language_info": {
   "codemirror_mode": {
    "name": "ipython",
    "version": 3
   },
   "file_extension": ".py",
   "mimetype": "text/x-python",
   "name": "python",
   "nbconvert_exporter": "python",
   "pygments_lexer": "ipython3",
   "version": "3.10.9"
  }
 },
 "nbformat": 4,
 "nbformat_minor": 5
}
