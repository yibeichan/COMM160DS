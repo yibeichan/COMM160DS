{
 "cells": [
  {
   "cell_type": "markdown",
   "id": "499c63e2-9f53-48c0-be9d-7054c145830f",
   "metadata": {
    "tags": []
   },
   "source": [
    "# Python Data Structures: Lists, Tuples, Dictionaries, and Sets\n",
    "\n",
    "## Table of Contents\n",
    "1. Lists\n",
    "    - Introduction\n",
    "    - Syntax\n",
    "    - Examples\n",
    "    - Exercises\n",
    "2. Tuples\n",
    "    - Introduction\n",
    "    - Syntax\n",
    "    - Examples\n",
    "    - Exercises\n",
    "3. Dictionaries\n",
    "    - Introduction\n",
    "    - Syntax\n",
    "    - Examples\n",
    "    - Exercises\n",
    "4. Sets\n",
    "    - Introduction\n",
    "    - Syntax\n",
    "    - Examples\n",
    "    - Exercises\n"
   ]
  },
  {
   "cell_type": "markdown",
   "id": "c4a3dc6a-bbf4-49e8-a025-497aacbbcf43",
   "metadata": {
    "jp-MarkdownHeadingCollapsed": true,
    "tags": []
   },
   "source": [
    "# Lists"
   ]
  },
  {
   "cell_type": "markdown",
   "id": "a1b02918-4f9e-4350-90ba-65636badadbf",
   "metadata": {},
   "source": [
    "## 1. Introduction\n",
    "Lists are a fundamental data structure in programming, used to store ordered collections of items. They allow you to organize and manage data in a linear fashion, making them ideal for tasks such as storing sequences, maintaining sorted data, and keeping track of elements in a specific order.\n",
    "\n",
    "Lists are mutable, meaning you can change their contents (add, remove, or modify elements) after they are created. They can also hold items of different data types, including other lists, allowing for complex data structures."
   ]
  },
  {
   "cell_type": "markdown",
   "id": "03f66026-699e-4bb1-9bc4-2d35943a2ba4",
   "metadata": {},
   "source": [
    "## 2. Syntax\n",
    "\n",
    "### List creation\n",
    "You can create a list using square brackets `[]` and separating elements with commas. For example:"
   ]
  },
  {
   "cell_type": "code",
   "execution_count": 2,
   "id": "130aa603-76c6-4a8f-ae39-7c3f7f1a6aff",
   "metadata": {
    "tags": []
   },
   "outputs": [],
   "source": [
    "my_list = [1, 2, 3, 4, 5]"
   ]
  },
  {
   "cell_type": "markdown",
   "id": "e8783d21-61c5-4c95-9631-4dc70cfae970",
   "metadata": {},
   "source": [
    "### Accessing elements\n",
    "To access elements in a list, use the index (position) of the element, starting from 0:"
   ]
  },
  {
   "cell_type": "code",
   "execution_count": 3,
   "id": "694e6a54-af74-4d0c-8e47-3c72a434d89e",
   "metadata": {
    "tags": []
   },
   "outputs": [],
   "source": [
    "first_element = my_list[0]  # Returns 1"
   ]
  },
  {
   "cell_type": "markdown",
   "id": "a631ac08-3fdf-464d-84ec-d736a4827105",
   "metadata": {},
   "source": [
    "### Adding elements\n",
    "You can add elements to a list using the append() method or the + operator:"
   ]
  },
  {
   "cell_type": "code",
   "execution_count": 4,
   "id": "edf151c7-6468-4e1e-b33f-ed32f13324e6",
   "metadata": {
    "tags": []
   },
   "outputs": [],
   "source": [
    "my_list.append(6)  # Adds 6 to the end of the list"
   ]
  },
  {
   "cell_type": "markdown",
   "id": "6569a9fe-5200-4b40-b7d6-ff5dc5d0480f",
   "metadata": {},
   "source": [
    "### Removing elements\n",
    "To remove elements, you can use the remove() method or the pop() method:"
   ]
  },
  {
   "cell_type": "code",
   "execution_count": 5,
   "id": "9fd9c1d6-712b-4270-bf97-2a3ec9a838f4",
   "metadata": {
    "tags": []
   },
   "outputs": [],
   "source": [
    "my_list.remove(6)  # Removes the first occurrence of 6"
   ]
  },
  {
   "cell_type": "markdown",
   "id": "14f67fdd-06b3-4639-abc3-db4099b49399",
   "metadata": {},
   "source": [
    "## 3. Examples"
   ]
  },
  {
   "cell_type": "code",
   "execution_count": 6,
   "id": "e3992a31-b7e1-4c0d-b56e-9552e70c02fc",
   "metadata": {
    "tags": []
   },
   "outputs": [],
   "source": [
    "# Creating a list\n",
    "fruits = ['apple', 'banana', 'cherry']"
   ]
  },
  {
   "cell_type": "code",
   "execution_count": 7,
   "id": "7914ce73-972a-4806-acaa-24b0faa2b490",
   "metadata": {
    "tags": []
   },
   "outputs": [
    {
     "name": "stdout",
     "output_type": "stream",
     "text": [
      "apple\n"
     ]
    }
   ],
   "source": [
    "# Accessing elements\n",
    "print(fruits[0])  # Output: 'apple'"
   ]
  },
  {
   "cell_type": "code",
   "execution_count": 8,
   "id": "84f72cd1-e9f4-4a45-910a-1f9702b21a87",
   "metadata": {
    "tags": []
   },
   "outputs": [
    {
     "name": "stdout",
     "output_type": "stream",
     "text": [
      "['apple', 'banana', 'cherry', 'orange']\n"
     ]
    }
   ],
   "source": [
    "# Adding elements\n",
    "fruits.append('orange')\n",
    "print(fruits)  # Output: ['apple', 'banana', 'cherry', 'orange']"
   ]
  },
  {
   "cell_type": "code",
   "execution_count": 9,
   "id": "4c9bca7c-a60e-480a-9c83-d6196d876171",
   "metadata": {
    "tags": []
   },
   "outputs": [
    {
     "name": "stdout",
     "output_type": "stream",
     "text": [
      "['apple', 'cherry', 'orange']\n"
     ]
    }
   ],
   "source": [
    "# Removing elements\n",
    "fruits.remove('banana')\n",
    "print(fruits)  # Output: ['apple', 'cherry', 'orange']"
   ]
  },
  {
   "cell_type": "markdown",
   "id": "ab383b7a-eacb-4cd6-92d4-292e5c795b9d",
   "metadata": {},
   "source": [
    "## 4. Exercises\n",
    "\n",
    "### Exercise 1\n",
    "Create a list of your favorite movies and print the first and last elements."
   ]
  },
  {
   "cell_type": "code",
   "execution_count": null,
   "id": "3385ed37-a9c2-45fb-bc72-86982b5ccc8c",
   "metadata": {},
   "outputs": [],
   "source": [
    "# Exercise 1: Solution\n",
    "movies = ['Movie1', 'Movie2', 'Movie3', 'Movie4']\n",
    "print(movies[0])\n",
    "print(movies[-1])"
   ]
  },
  {
   "cell_type": "markdown",
   "id": "3f030590-7121-4fa8-add2-6e7bf2d6a52f",
   "metadata": {},
   "source": [
    "### Exercise 2\n",
    "Add two more movies to your list and remove the second movie. Print the updated list."
   ]
  },
  {
   "cell_type": "code",
   "execution_count": null,
   "id": "2be1fc49-74c4-42e9-a46b-9ca2dff5af0c",
   "metadata": {},
   "outputs": [],
   "source": [
    "# Exercise 2: Solution\n",
    "movies.append('Movie5')\n",
    "movies.append('Movie6')\n",
    "movies.remove('Movie2')\n",
    "print(movies)"
   ]
  },
  {
   "cell_type": "markdown",
   "id": "009bff7a-05c2-4ccb-833a-e5f0f20b7d68",
   "metadata": {},
   "source": [
    "# Tuples"
   ]
  },
  {
   "cell_type": "markdown",
   "id": "db57f4de-ce56-4776-9f0e-13dbb286fabd",
   "metadata": {},
   "source": [
    "## 1. Introduction\n",
    "Tuples are similar to lists, but they are immutable, meaning their contents cannot be changed after they are created. They are used to store ordered collections of items, like lists, but they are ideal for situations where the data should not be modified. Tuples are often used to represent fixed collections of values, such as coordinates, RGB color values, or dates.\n",
    "\n",
    "Because tuples are immutable, they are generally faster and require less memory than lists. Additionally, their immutability can help prevent accidental modifications and ensure data consistency."
   ]
  },
  {
   "cell_type": "markdown",
   "id": "37b4db11-3a6d-4c9a-b834-6b82676ba951",
   "metadata": {},
   "source": [
    "## 2. Syntax\n",
    "\n",
    "### Tuple creation\n",
    "You can create a tuple using parentheses `()` and separating elements with commas. For example:"
   ]
  },
  {
   "cell_type": "code",
   "execution_count": 10,
   "id": "30cb4548-c30b-4bf0-836c-cdda628a7f77",
   "metadata": {
    "tags": []
   },
   "outputs": [],
   "source": [
    "my_tuple = (1, 2, 3, 4, 5)"
   ]
  },
  {
   "cell_type": "markdown",
   "id": "2866435b-29c5-4610-b9a5-3654e751422c",
   "metadata": {},
   "source": [
    "### Accessing elements\n",
    "To access elements in a tuple, use the index (position) of the element, starting from 0:"
   ]
  },
  {
   "cell_type": "code",
   "execution_count": 11,
   "id": "09862e65-0590-41b7-8fdb-21355582cb0a",
   "metadata": {
    "tags": []
   },
   "outputs": [],
   "source": [
    "first_element = my_tuple[0]  # Returns 1"
   ]
  },
  {
   "cell_type": "markdown",
   "id": "2a4aa86a-fb4a-4882-ae1a-63a6222cef49",
   "metadata": {},
   "source": [
    "### Updating values (not allowed)\n",
    "Tuples are immutable, so you cannot directly add, remove, or modify elements. However, you can create a new tuple by combining existing tuples:"
   ]
  },
  {
   "cell_type": "code",
   "execution_count": 12,
   "id": "54061001-13cc-4fb5-84f7-d810e64d844e",
   "metadata": {
    "tags": []
   },
   "outputs": [],
   "source": [
    "new_tuple = my_tuple + (6, 7, 8)"
   ]
  },
  {
   "cell_type": "markdown",
   "id": "cf7dacba-d9fc-441f-a8cb-204b66170d0c",
   "metadata": {},
   "source": [
    "## 3. Examples"
   ]
  },
  {
   "cell_type": "code",
   "execution_count": 13,
   "id": "158aac7f-e551-4e68-9195-d8959155d1c8",
   "metadata": {
    "tags": []
   },
   "outputs": [
    {
     "name": "stdout",
     "output_type": "stream",
     "text": [
      "apple\n",
      "('apple', 'banana', 'cherry', 'orange', 'grape')\n"
     ]
    }
   ],
   "source": [
    "# Creating a tuple\n",
    "fruits = ('apple', 'banana', 'cherry')\n",
    "\n",
    "# Accessing elements\n",
    "print(fruits[0])  # Output: 'apple'\n",
    "\n",
    "# Combining tuples\n",
    "more_fruits = ('orange', 'grape')\n",
    "all_fruits = fruits + more_fruits\n",
    "print(all_fruits)  # Output: ('apple', 'banana', 'cherry', 'orange', 'grape')"
   ]
  },
  {
   "cell_type": "markdown",
   "id": "df154cb8-946d-416f-8634-b8d0fc576dae",
   "metadata": {},
   "source": [
    "## 4. Exercises\n",
    "\n",
    "### Exercise 1\n",
    "Create a tuple of your favorite colors and print the first and last elements."
   ]
  },
  {
   "cell_type": "code",
   "execution_count": null,
   "id": "cd65e9f3-f532-4b33-a720-d533b7c3576a",
   "metadata": {},
   "outputs": [],
   "source": [
    "# Exercise 1: Solution\n",
    "colors = ('red', 'blue', 'green', 'yellow')\n",
    "print(colors[0])\n",
    "print(colors[-1])"
   ]
  },
  {
   "cell_type": "markdown",
   "id": "708f611e-22ed-4ebe-9072-6aec0f02046b",
   "metadata": {},
   "source": [
    "### Exercise 2\n",
    "Combine two tuples of integers and print the resulting tuple."
   ]
  },
  {
   "cell_type": "code",
   "execution_count": null,
   "id": "aa162eaf-cd55-4240-b510-84520a8527c3",
   "metadata": {},
   "outputs": [],
   "source": [
    "# Exercise 2: Solution\n",
    "tuple1 = (1, 2, 3)\n",
    "tuple2 = (4, 5, 6)\n",
    "combined_tuple = tuple1 + tuple2\n",
    "print(combined_tuple)"
   ]
  }
 ],
 "metadata": {
  "kernelspec": {
   "display_name": "Python 3 (ipykernel)",
   "language": "python",
   "name": "python3"
  },
  "language_info": {
   "codemirror_mode": {
    "name": "ipython",
    "version": 3
   },
   "file_extension": ".py",
   "mimetype": "text/x-python",
   "name": "python",
   "nbconvert_exporter": "python",
   "pygments_lexer": "ipython3",
   "version": "3.10.9"
  }
 },
 "nbformat": 4,
 "nbformat_minor": 5
}
